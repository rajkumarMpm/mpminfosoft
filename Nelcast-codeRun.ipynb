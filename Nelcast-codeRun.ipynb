{
 "cells": [
  {
   "cell_type": "code",
   "execution_count": 1,
   "metadata": {},
   "outputs": [],
   "source": [
    "from IPython.core.display import display, HTML\n",
    "display(HTML(\"<style>.container {width:95% !important}</style>\"))\n",
    "display(HTML(\"<style>.output_result {width:95% !important}</style>\"))"
   ]
  },
  {
   "cell_type": "code",
   "execution_count": 2,
   "metadata": {
    "ExecuteTime": {
     "end_time": "2018-06-15T10:29:03.568603Z",
     "start_time": "2018-06-15T10:29:03.203916Z"
    }
   },
   "outputs": [
    {
     "name": "stdout",
     "output_type": "stream",
     "text": [
      "1.0.0\n"
     ]
    }
   ],
   "source": [
    "import pandas as pd\n",
    "print(pd.__version__)"
   ]
  },
  {
   "cell_type": "code",
   "execution_count": 3,
   "metadata": {
    "ExecuteTime": {
     "end_time": "2018-06-15T10:29:03.575024Z",
     "start_time": "2018-06-15T10:29:03.570278Z"
    }
   },
   "outputs": [],
   "source": [
    "#!conda install qgrid\n",
    "#import qgrid"
   ]
  },
  {
   "cell_type": "code",
   "execution_count": 4,
   "metadata": {
    "ExecuteTime": {
     "end_time": "2018-06-15T10:29:03.726052Z",
     "start_time": "2018-06-15T10:29:03.576761Z"
    }
   },
   "outputs": [],
   "source": [
    "import copy as cp"
   ]
  },
  {
   "cell_type": "code",
   "execution_count": 5,
   "metadata": {
    "ExecuteTime": {
     "end_time": "2018-06-15T10:29:04.128129Z",
     "start_time": "2018-06-15T10:29:03.732368Z"
    }
   },
   "outputs": [],
   "source": [
    "#!conda install seaborn\n",
    "import seaborn as sns"
   ]
  },
  {
   "cell_type": "code",
   "execution_count": 6,
   "metadata": {
    "ExecuteTime": {
     "end_time": "2018-06-15T10:29:04.135041Z",
     "start_time": "2018-06-15T10:29:04.129747Z"
    }
   },
   "outputs": [],
   "source": [
    "%matplotlib inline"
   ]
  },
  {
   "cell_type": "code",
   "execution_count": 7,
   "metadata": {
    "ExecuteTime": {
     "end_time": "2018-06-15T10:29:04.305468Z",
     "start_time": "2018-06-15T10:29:04.137186Z"
    }
   },
   "outputs": [],
   "source": [
    "%load_ext autoreload\n",
    "%autoreload 2"
   ]
  },
  {
   "cell_type": "code",
   "execution_count": 8,
   "metadata": {},
   "outputs": [
    {
     "data": {
      "text/plain": [
       "'/home/rajkumar/linux-work/Analysis-Understanding/Sandman-Baselined-27-Dec-2019/scripts'"
      ]
     },
     "execution_count": 8,
     "metadata": {},
     "output_type": "execute_result"
    }
   ],
   "source": [
    "import os\n",
    "os.getcwd()"
   ]
  },
  {
   "cell_type": "markdown",
   "metadata": {
    "heading_collapsed": true
   },
   "source": [
    "## Data import"
   ]
  },
  {
   "cell_type": "code",
   "execution_count": 307,
   "metadata": {
    "ExecuteTime": {
     "end_time": "2018-06-15T10:29:04.825081Z",
     "start_time": "2018-06-15T10:29:04.307459Z"
    },
    "hidden": true
   },
   "outputs": [],
   "source": [
    "# !conda install xlrd\n",
    "#prepSand = pd.read_excel(\"../data/Nelcast-2/Nelcast_Gudur_disa70_Preparedsand_01-Jan-2019_TO_31-Dec-2019_DISA FLEX 70.xlsx\", skiprows=[0,1,2,3,4])\n",
    "\n",
    "# brakes validation \n",
    "#prepSand = pd.read_excel(\"../data/Validation-data/Brakes_Preparedsand_01-Jul-2019_TO_31-Dec-2019_Line E.xlsx\", skiprows=[0,1,2,3,4])\n",
    "\n",
    "# Munjal validation\n",
    "prepSand = pd.read_excel(\"../data/Validation-data/Munjal-Preparedsand_01-Apr-2019_TO_31-Jan-2020_Disa 231Y.xlsx\", skiprows=[0,1,2,3,4])\n",
    "\n",
    "# Nelcast ponneri HPML validation\n",
    "#prepSand = pd.read_excel(\"../data/Validation-data/Nelcast_ponneri_Preparedsand_01-Jul-2019_TO_31-Dec-2019_HPML (KW).xlsx\", skiprows=[0,1,2,3,4])\n",
    "\n"
   ]
  },
  {
   "cell_type": "code",
   "execution_count": 308,
   "metadata": {
    "ExecuteTime": {
     "end_time": "2018-06-15T10:29:04.865058Z",
     "start_time": "2018-06-15T10:29:04.826494Z"
    },
    "hidden": true
   },
   "outputs": [
    {
     "name": "stdout",
     "output_type": "stream",
     "text": [
      "(2298, 29)\n"
     ]
    },
    {
     "data": {
      "text/html": [
       "<div>\n",
       "<style scoped>\n",
       "    .dataframe tbody tr th:only-of-type {\n",
       "        vertical-align: middle;\n",
       "    }\n",
       "\n",
       "    .dataframe tbody tr th {\n",
       "        vertical-align: top;\n",
       "    }\n",
       "\n",
       "    .dataframe thead th {\n",
       "        text-align: right;\n",
       "    }\n",
       "</style>\n",
       "<table border=\"1\" class=\"dataframe\">\n",
       "  <thead>\n",
       "    <tr style=\"text-align: right;\">\n",
       "      <th></th>\n",
       "      <th>Date</th>\n",
       "      <th>Time</th>\n",
       "      <th>Shift</th>\n",
       "      <th>Heat No.</th>\n",
       "      <th>Component Id</th>\n",
       "      <th>GCS (kg/cm2)</th>\n",
       "      <th>Compactability (%)</th>\n",
       "      <th>Active Clay (%)</th>\n",
       "      <th>Wet Tensile Strength (gm/cm2)</th>\n",
       "      <th>LOI (%)</th>\n",
       "      <th>...</th>\n",
       "      <th>Volatile Combustible Matter - VCM (%)</th>\n",
       "      <th>Friability Index (%)</th>\n",
       "      <th>GFN/AFS (no)</th>\n",
       "      <th>Oolitics (%)</th>\n",
       "      <th>Cone Jolt Test (no)</th>\n",
       "      <th>Temp. of Sand before mix.(C)</th>\n",
       "      <th>Temp. of Sand after mix.(C)</th>\n",
       "      <th>Ambient Temperature (C)</th>\n",
       "      <th>Relative Humidity (%)</th>\n",
       "      <th>Split Strength (psi)</th>\n",
       "    </tr>\n",
       "  </thead>\n",
       "  <tbody>\n",
       "    <tr>\n",
       "      <th>0</th>\n",
       "      <td>2019-04-01</td>\n",
       "      <td>10:20</td>\n",
       "      <td>A</td>\n",
       "      <td>9D01A</td>\n",
       "      <td>Disc FR Brake  _XBA</td>\n",
       "      <td>1.78</td>\n",
       "      <td>36.0</td>\n",
       "      <td>8.5</td>\n",
       "      <td>16.0</td>\n",
       "      <td>2.6</td>\n",
       "      <td>...</td>\n",
       "      <td>NaN</td>\n",
       "      <td>NaN</td>\n",
       "      <td>66.94</td>\n",
       "      <td>NaN</td>\n",
       "      <td>NaN</td>\n",
       "      <td>NaN</td>\n",
       "      <td>38.0</td>\n",
       "      <td>30.53</td>\n",
       "      <td>15.0</td>\n",
       "      <td>NaN</td>\n",
       "    </tr>\n",
       "    <tr>\n",
       "      <th>1</th>\n",
       "      <td>2019-04-01</td>\n",
       "      <td>12:35</td>\n",
       "      <td>A</td>\n",
       "      <td>9D01A</td>\n",
       "      <td>Disk FR Brake - Model L  YAD / YBA</td>\n",
       "      <td>1.86</td>\n",
       "      <td>36.0</td>\n",
       "      <td>8.5</td>\n",
       "      <td>8.0</td>\n",
       "      <td>2.6</td>\n",
       "      <td>...</td>\n",
       "      <td>NaN</td>\n",
       "      <td>NaN</td>\n",
       "      <td>66.94</td>\n",
       "      <td>NaN</td>\n",
       "      <td>NaN</td>\n",
       "      <td>NaN</td>\n",
       "      <td>38.0</td>\n",
       "      <td>34.92</td>\n",
       "      <td>15.0</td>\n",
       "      <td>NaN</td>\n",
       "    </tr>\n",
       "    <tr>\n",
       "      <th>2</th>\n",
       "      <td>2019-04-01</td>\n",
       "      <td>13:30</td>\n",
       "      <td>A</td>\n",
       "      <td>9D01A</td>\n",
       "      <td>Disc, Front Brake,YL8</td>\n",
       "      <td>1.86</td>\n",
       "      <td>36.0</td>\n",
       "      <td>8.5</td>\n",
       "      <td>8.0</td>\n",
       "      <td>2.6</td>\n",
       "      <td>...</td>\n",
       "      <td>NaN</td>\n",
       "      <td>NaN</td>\n",
       "      <td>66.94</td>\n",
       "      <td>NaN</td>\n",
       "      <td>NaN</td>\n",
       "      <td>NaN</td>\n",
       "      <td>38.0</td>\n",
       "      <td>36.19</td>\n",
       "      <td>15.0</td>\n",
       "      <td>NaN</td>\n",
       "    </tr>\n",
       "    <tr>\n",
       "      <th>3</th>\n",
       "      <td>2019-04-01</td>\n",
       "      <td>14:40</td>\n",
       "      <td>B</td>\n",
       "      <td>9D01A</td>\n",
       "      <td>Cylinder Block _ CMA</td>\n",
       "      <td>1.84</td>\n",
       "      <td>36.0</td>\n",
       "      <td>8.5</td>\n",
       "      <td>14.0</td>\n",
       "      <td>2.6</td>\n",
       "      <td>...</td>\n",
       "      <td>NaN</td>\n",
       "      <td>NaN</td>\n",
       "      <td>66.94</td>\n",
       "      <td>NaN</td>\n",
       "      <td>NaN</td>\n",
       "      <td>NaN</td>\n",
       "      <td>41.0</td>\n",
       "      <td>36.74</td>\n",
       "      <td>15.0</td>\n",
       "      <td>NaN</td>\n",
       "    </tr>\n",
       "    <tr>\n",
       "      <th>4</th>\n",
       "      <td>2019-04-01</td>\n",
       "      <td>15:30</td>\n",
       "      <td>B</td>\n",
       "      <td>9D01B</td>\n",
       "      <td>Cylinder Block _ CMA</td>\n",
       "      <td>1.84</td>\n",
       "      <td>36.0</td>\n",
       "      <td>8.5</td>\n",
       "      <td>14.0</td>\n",
       "      <td>2.6</td>\n",
       "      <td>...</td>\n",
       "      <td>NaN</td>\n",
       "      <td>NaN</td>\n",
       "      <td>66.94</td>\n",
       "      <td>NaN</td>\n",
       "      <td>NaN</td>\n",
       "      <td>NaN</td>\n",
       "      <td>41.0</td>\n",
       "      <td>36.88</td>\n",
       "      <td>15.0</td>\n",
       "      <td>NaN</td>\n",
       "    </tr>\n",
       "  </tbody>\n",
       "</table>\n",
       "<p>5 rows × 29 columns</p>\n",
       "</div>"
      ],
      "text/plain": [
       "        Date   Time Shift Heat No.                        Component Id  \\\n",
       "0 2019-04-01  10:20     A    9D01A                 Disc FR Brake  _XBA   \n",
       "1 2019-04-01  12:35     A    9D01A  Disk FR Brake - Model L  YAD / YBA   \n",
       "2 2019-04-01  13:30     A    9D01A               Disc, Front Brake,YL8   \n",
       "3 2019-04-01  14:40     B    9D01A                Cylinder Block _ CMA   \n",
       "4 2019-04-01  15:30     B    9D01B                Cylinder Block _ CMA   \n",
       "\n",
       "   GCS (kg/cm2)  Compactability (%)  Active Clay (%)  \\\n",
       "0          1.78                36.0              8.5   \n",
       "1          1.86                36.0              8.5   \n",
       "2          1.86                36.0              8.5   \n",
       "3          1.84                36.0              8.5   \n",
       "4          1.84                36.0              8.5   \n",
       "\n",
       "   Wet Tensile Strength (gm/cm2)  LOI (%)  ...  \\\n",
       "0                           16.0      2.6  ...   \n",
       "1                            8.0      2.6  ...   \n",
       "2                            8.0      2.6  ...   \n",
       "3                           14.0      2.6  ...   \n",
       "4                           14.0      2.6  ...   \n",
       "\n",
       "   Volatile Combustible Matter - VCM (%)  Friability Index (%)  GFN/AFS (no)  \\\n",
       "0                                    NaN                   NaN         66.94   \n",
       "1                                    NaN                   NaN         66.94   \n",
       "2                                    NaN                   NaN         66.94   \n",
       "3                                    NaN                   NaN         66.94   \n",
       "4                                    NaN                   NaN         66.94   \n",
       "\n",
       "   Oolitics (%)  Cone Jolt Test (no)  Temp. of Sand before mix.(C)  \\\n",
       "0           NaN                  NaN                           NaN   \n",
       "1           NaN                  NaN                           NaN   \n",
       "2           NaN                  NaN                           NaN   \n",
       "3           NaN                  NaN                           NaN   \n",
       "4           NaN                  NaN                           NaN   \n",
       "\n",
       "   Temp. of Sand after mix.(C)  Ambient Temperature (C)  \\\n",
       "0                         38.0                    30.53   \n",
       "1                         38.0                    34.92   \n",
       "2                         38.0                    36.19   \n",
       "3                         41.0                    36.74   \n",
       "4                         41.0                    36.88   \n",
       "\n",
       "   Relative Humidity (%)  Split Strength (psi)  \n",
       "0                   15.0                   NaN  \n",
       "1                   15.0                   NaN  \n",
       "2                   15.0                   NaN  \n",
       "3                   15.0                   NaN  \n",
       "4                   15.0                   NaN  \n",
       "\n",
       "[5 rows x 29 columns]"
      ]
     },
     "execution_count": 308,
     "metadata": {},
     "output_type": "execute_result"
    }
   ],
   "source": [
    "print(prepSand.shape)\n",
    "prepSand.head()"
   ]
  },
  {
   "cell_type": "code",
   "execution_count": 309,
   "metadata": {
    "ExecuteTime": {
     "end_time": "2018-06-15T10:29:05.038271Z",
     "start_time": "2018-06-15T10:29:04.867495Z"
    },
    "hidden": true
   },
   "outputs": [],
   "source": [
    "prepSand.dropna(axis=1, how='all', inplace=True)"
   ]
  },
  {
   "cell_type": "code",
   "execution_count": 310,
   "metadata": {
    "ExecuteTime": {
     "end_time": "2018-06-15T10:29:05.192626Z",
     "start_time": "2018-06-15T10:29:05.041834Z"
    },
    "hidden": true
   },
   "outputs": [
    {
     "name": "stdout",
     "output_type": "stream",
     "text": [
      "(2298, 20)\n"
     ]
    },
    {
     "data": {
      "text/html": [
       "<div>\n",
       "<style scoped>\n",
       "    .dataframe tbody tr th:only-of-type {\n",
       "        vertical-align: middle;\n",
       "    }\n",
       "\n",
       "    .dataframe tbody tr th {\n",
       "        vertical-align: top;\n",
       "    }\n",
       "\n",
       "    .dataframe thead th {\n",
       "        text-align: right;\n",
       "    }\n",
       "</style>\n",
       "<table border=\"1\" class=\"dataframe\">\n",
       "  <thead>\n",
       "    <tr style=\"text-align: right;\">\n",
       "      <th></th>\n",
       "      <th>Date</th>\n",
       "      <th>Time</th>\n",
       "      <th>Shift</th>\n",
       "      <th>Heat No.</th>\n",
       "      <th>Component Id</th>\n",
       "      <th>GCS (kg/cm2)</th>\n",
       "      <th>Compactability (%)</th>\n",
       "      <th>Active Clay (%)</th>\n",
       "      <th>Wet Tensile Strength (gm/cm2)</th>\n",
       "      <th>LOI (%)</th>\n",
       "      <th>Moisture (%)</th>\n",
       "      <th>Total Clay (%)</th>\n",
       "      <th>Inert Fines (%)</th>\n",
       "      <th>Volatile Matter (%)</th>\n",
       "      <th>Specimen Weight (gm)</th>\n",
       "      <th>Permeability (no)</th>\n",
       "      <th>GFN/AFS (no)</th>\n",
       "      <th>Temp. of Sand after mix.(C)</th>\n",
       "      <th>Ambient Temperature (C)</th>\n",
       "      <th>Relative Humidity (%)</th>\n",
       "    </tr>\n",
       "  </thead>\n",
       "  <tbody>\n",
       "    <tr>\n",
       "      <th>0</th>\n",
       "      <td>2019-04-01</td>\n",
       "      <td>10:20</td>\n",
       "      <td>A</td>\n",
       "      <td>9D01A</td>\n",
       "      <td>Disc FR Brake  _XBA</td>\n",
       "      <td>1.78</td>\n",
       "      <td>36.0</td>\n",
       "      <td>8.5</td>\n",
       "      <td>16.0</td>\n",
       "      <td>2.6</td>\n",
       "      <td>2.77</td>\n",
       "      <td>11.1</td>\n",
       "      <td>2.6</td>\n",
       "      <td>2.64</td>\n",
       "      <td>146.0</td>\n",
       "      <td>120.0</td>\n",
       "      <td>66.94</td>\n",
       "      <td>38.0</td>\n",
       "      <td>30.53</td>\n",
       "      <td>15.0</td>\n",
       "    </tr>\n",
       "    <tr>\n",
       "      <th>1</th>\n",
       "      <td>2019-04-01</td>\n",
       "      <td>12:35</td>\n",
       "      <td>A</td>\n",
       "      <td>9D01A</td>\n",
       "      <td>Disk FR Brake - Model L  YAD / YBA</td>\n",
       "      <td>1.86</td>\n",
       "      <td>36.0</td>\n",
       "      <td>8.5</td>\n",
       "      <td>8.0</td>\n",
       "      <td>2.6</td>\n",
       "      <td>2.64</td>\n",
       "      <td>11.1</td>\n",
       "      <td>2.6</td>\n",
       "      <td>2.64</td>\n",
       "      <td>146.0</td>\n",
       "      <td>120.0</td>\n",
       "      <td>66.94</td>\n",
       "      <td>38.0</td>\n",
       "      <td>34.92</td>\n",
       "      <td>15.0</td>\n",
       "    </tr>\n",
       "    <tr>\n",
       "      <th>2</th>\n",
       "      <td>2019-04-01</td>\n",
       "      <td>13:30</td>\n",
       "      <td>A</td>\n",
       "      <td>9D01A</td>\n",
       "      <td>Disc, Front Brake,YL8</td>\n",
       "      <td>1.86</td>\n",
       "      <td>36.0</td>\n",
       "      <td>8.5</td>\n",
       "      <td>8.0</td>\n",
       "      <td>2.6</td>\n",
       "      <td>2.64</td>\n",
       "      <td>11.1</td>\n",
       "      <td>2.6</td>\n",
       "      <td>2.64</td>\n",
       "      <td>146.0</td>\n",
       "      <td>120.0</td>\n",
       "      <td>66.94</td>\n",
       "      <td>38.0</td>\n",
       "      <td>36.19</td>\n",
       "      <td>15.0</td>\n",
       "    </tr>\n",
       "    <tr>\n",
       "      <th>3</th>\n",
       "      <td>2019-04-01</td>\n",
       "      <td>14:40</td>\n",
       "      <td>B</td>\n",
       "      <td>9D01A</td>\n",
       "      <td>Cylinder Block _ CMA</td>\n",
       "      <td>1.84</td>\n",
       "      <td>36.0</td>\n",
       "      <td>8.5</td>\n",
       "      <td>14.0</td>\n",
       "      <td>2.6</td>\n",
       "      <td>2.66</td>\n",
       "      <td>11.1</td>\n",
       "      <td>2.6</td>\n",
       "      <td>2.64</td>\n",
       "      <td>146.0</td>\n",
       "      <td>115.0</td>\n",
       "      <td>66.94</td>\n",
       "      <td>41.0</td>\n",
       "      <td>36.74</td>\n",
       "      <td>15.0</td>\n",
       "    </tr>\n",
       "    <tr>\n",
       "      <th>4</th>\n",
       "      <td>2019-04-01</td>\n",
       "      <td>15:30</td>\n",
       "      <td>B</td>\n",
       "      <td>9D01B</td>\n",
       "      <td>Cylinder Block _ CMA</td>\n",
       "      <td>1.84</td>\n",
       "      <td>36.0</td>\n",
       "      <td>8.5</td>\n",
       "      <td>14.0</td>\n",
       "      <td>2.6</td>\n",
       "      <td>2.66</td>\n",
       "      <td>11.1</td>\n",
       "      <td>2.6</td>\n",
       "      <td>2.64</td>\n",
       "      <td>146.0</td>\n",
       "      <td>115.0</td>\n",
       "      <td>66.94</td>\n",
       "      <td>41.0</td>\n",
       "      <td>36.88</td>\n",
       "      <td>15.0</td>\n",
       "    </tr>\n",
       "  </tbody>\n",
       "</table>\n",
       "</div>"
      ],
      "text/plain": [
       "        Date   Time Shift Heat No.                        Component Id  \\\n",
       "0 2019-04-01  10:20     A    9D01A                 Disc FR Brake  _XBA   \n",
       "1 2019-04-01  12:35     A    9D01A  Disk FR Brake - Model L  YAD / YBA   \n",
       "2 2019-04-01  13:30     A    9D01A               Disc, Front Brake,YL8   \n",
       "3 2019-04-01  14:40     B    9D01A                Cylinder Block _ CMA   \n",
       "4 2019-04-01  15:30     B    9D01B                Cylinder Block _ CMA   \n",
       "\n",
       "   GCS (kg/cm2)  Compactability (%)  Active Clay (%)  \\\n",
       "0          1.78                36.0              8.5   \n",
       "1          1.86                36.0              8.5   \n",
       "2          1.86                36.0              8.5   \n",
       "3          1.84                36.0              8.5   \n",
       "4          1.84                36.0              8.5   \n",
       "\n",
       "   Wet Tensile Strength (gm/cm2)  LOI (%)  Moisture (%)  Total Clay (%)  \\\n",
       "0                           16.0      2.6          2.77            11.1   \n",
       "1                            8.0      2.6          2.64            11.1   \n",
       "2                            8.0      2.6          2.64            11.1   \n",
       "3                           14.0      2.6          2.66            11.1   \n",
       "4                           14.0      2.6          2.66            11.1   \n",
       "\n",
       "   Inert Fines (%)  Volatile Matter (%)  Specimen Weight (gm)  \\\n",
       "0              2.6                 2.64                 146.0   \n",
       "1              2.6                 2.64                 146.0   \n",
       "2              2.6                 2.64                 146.0   \n",
       "3              2.6                 2.64                 146.0   \n",
       "4              2.6                 2.64                 146.0   \n",
       "\n",
       "   Permeability (no)  GFN/AFS (no)  Temp. of Sand after mix.(C)  \\\n",
       "0              120.0         66.94                         38.0   \n",
       "1              120.0         66.94                         38.0   \n",
       "2              120.0         66.94                         38.0   \n",
       "3              115.0         66.94                         41.0   \n",
       "4              115.0         66.94                         41.0   \n",
       "\n",
       "   Ambient Temperature (C)  Relative Humidity (%)  \n",
       "0                    30.53                   15.0  \n",
       "1                    34.92                   15.0  \n",
       "2                    36.19                   15.0  \n",
       "3                    36.74                   15.0  \n",
       "4                    36.88                   15.0  "
      ]
     },
     "execution_count": 310,
     "metadata": {},
     "output_type": "execute_result"
    }
   ],
   "source": [
    "print(prepSand.shape)\n",
    "prepSand.head()"
   ]
  },
  {
   "cell_type": "code",
   "execution_count": 311,
   "metadata": {
    "ExecuteTime": {
     "end_time": "2018-06-15T10:29:05.390529Z",
     "start_time": "2018-06-15T10:29:05.195441Z"
    },
    "hidden": true,
    "scrolled": true
   },
   "outputs": [],
   "source": [
    "#qgrid.show_grid(prepSand)"
   ]
  },
  {
   "cell_type": "code",
   "execution_count": 357,
   "metadata": {
    "ExecuteTime": {
     "end_time": "2018-06-15T10:29:05.624281Z",
     "start_time": "2018-06-15T10:29:05.392292Z"
    },
    "hidden": true
   },
   "outputs": [],
   "source": [
    "#rejection = pd.read_excel(\"../data/Nelcast-2/Nelcast_Gudur_disa70_Rejection_01-Jan-2019_TO_31-Dec-2019_DISA FLEX 70.xlsx\", skiprows=[0,1,2,3,4])\n",
    "\n",
    "# brakes validation\n",
    "#rejection = pd.read_excel(\"../data/Validation-data/Brakes_Rejection_01-Jul-2019_TO_31-Dec-2019_Line E.xlsx\", skiprows=[0,1,2,3,4])\n",
    "\n",
    "# Munjal validation\n",
    "rejection = pd.read_excel(\"../data/Validation-data/Munjal-Rejection_01-Apr-2019_TO_31-Jan-2020_Disa 231Y.xlsx\", skiprows=[0,1,2,3,4])\n",
    "\n",
    "\n",
    "# Nelcast ponneri HPML validation\n",
    "#rejection = pd.read_excel(\"../data/Validation-data/Nelcast_ponneri_Rejection_01-Jul-2019_TO_31-Dec-2019_HPML (KW).xlsx\", skiprows=[0,1,2,3,4])\n"
   ]
  },
  {
   "cell_type": "code",
   "execution_count": 358,
   "metadata": {
    "ExecuteTime": {
     "end_time": "2018-06-15T10:29:05.663801Z",
     "start_time": "2018-06-15T10:29:05.625844Z"
    },
    "hidden": true
   },
   "outputs": [
    {
     "name": "stdout",
     "output_type": "stream",
     "text": [
      "(2517, 88)\n"
     ]
    },
    {
     "data": {
      "text/html": [
       "<div>\n",
       "<style scoped>\n",
       "    .dataframe tbody tr th:only-of-type {\n",
       "        vertical-align: middle;\n",
       "    }\n",
       "\n",
       "    .dataframe tbody tr th {\n",
       "        vertical-align: top;\n",
       "    }\n",
       "\n",
       "    .dataframe thead th {\n",
       "        text-align: right;\n",
       "    }\n",
       "</style>\n",
       "<table border=\"1\" class=\"dataframe\">\n",
       "  <thead>\n",
       "    <tr style=\"text-align: right;\">\n",
       "      <th></th>\n",
       "      <th>Production Date</th>\n",
       "      <th>Shift</th>\n",
       "      <th>Heat No.</th>\n",
       "      <th>Component Id</th>\n",
       "      <th>No. of Boxes Poured (No)</th>\n",
       "      <th>No. of Castings Per Box (No)</th>\n",
       "      <th>Nett Casting Wt (Kg)</th>\n",
       "      <th>Total Quantity Produced (no)</th>\n",
       "      <th>Total Sand Rejection Quantity (no)</th>\n",
       "      <th>Total Castings Salvaged (no)</th>\n",
       "      <th>...</th>\n",
       "      <th>Knock Out Damage (no)</th>\n",
       "      <th>Ingate Breakage (no)</th>\n",
       "      <th>Decoring Damage (no)</th>\n",
       "      <th>Unclean (no)</th>\n",
       "      <th>Mould Press (no)</th>\n",
       "      <th>Other Defects 1 (no)</th>\n",
       "      <th>Other Defects 2 (no)</th>\n",
       "      <th>Other Defects 3 (no)</th>\n",
       "      <th>Other Defects 4 (no)</th>\n",
       "      <th>Other Defects 5 (no)</th>\n",
       "    </tr>\n",
       "  </thead>\n",
       "  <tbody>\n",
       "    <tr>\n",
       "      <th>0</th>\n",
       "      <td>2019-04-01</td>\n",
       "      <td>A</td>\n",
       "      <td>9D01A</td>\n",
       "      <td>Disc FR Brake  _XBA</td>\n",
       "      <td>479</td>\n",
       "      <td>4</td>\n",
       "      <td>4.08</td>\n",
       "      <td>1916</td>\n",
       "      <td>43</td>\n",
       "      <td>NaN</td>\n",
       "      <td>...</td>\n",
       "      <td>NaN</td>\n",
       "      <td>NaN</td>\n",
       "      <td>NaN</td>\n",
       "      <td>0.0</td>\n",
       "      <td>NaN</td>\n",
       "      <td>NaN</td>\n",
       "      <td>NaN</td>\n",
       "      <td>NaN</td>\n",
       "      <td>NaN</td>\n",
       "      <td>NaN</td>\n",
       "    </tr>\n",
       "    <tr>\n",
       "      <th>1</th>\n",
       "      <td>2019-04-01</td>\n",
       "      <td>A</td>\n",
       "      <td>9D01A</td>\n",
       "      <td>Disk FR Brake - Model L  YAD / YBA</td>\n",
       "      <td>500</td>\n",
       "      <td>2</td>\n",
       "      <td>8.59</td>\n",
       "      <td>1000</td>\n",
       "      <td>77</td>\n",
       "      <td>NaN</td>\n",
       "      <td>...</td>\n",
       "      <td>NaN</td>\n",
       "      <td>NaN</td>\n",
       "      <td>NaN</td>\n",
       "      <td>0.0</td>\n",
       "      <td>NaN</td>\n",
       "      <td>NaN</td>\n",
       "      <td>NaN</td>\n",
       "      <td>NaN</td>\n",
       "      <td>NaN</td>\n",
       "      <td>NaN</td>\n",
       "    </tr>\n",
       "    <tr>\n",
       "      <th>2</th>\n",
       "      <td>2019-04-01</td>\n",
       "      <td>A</td>\n",
       "      <td>9D01A</td>\n",
       "      <td>Disc, Front Brake,YL8</td>\n",
       "      <td>556</td>\n",
       "      <td>2</td>\n",
       "      <td>7.67</td>\n",
       "      <td>1112</td>\n",
       "      <td>25</td>\n",
       "      <td>NaN</td>\n",
       "      <td>...</td>\n",
       "      <td>NaN</td>\n",
       "      <td>NaN</td>\n",
       "      <td>NaN</td>\n",
       "      <td>0.0</td>\n",
       "      <td>NaN</td>\n",
       "      <td>NaN</td>\n",
       "      <td>NaN</td>\n",
       "      <td>NaN</td>\n",
       "      <td>NaN</td>\n",
       "      <td>NaN</td>\n",
       "    </tr>\n",
       "    <tr>\n",
       "      <th>3</th>\n",
       "      <td>2019-04-01</td>\n",
       "      <td>B</td>\n",
       "      <td>9D01A</td>\n",
       "      <td>Cylinder Block _ CMA</td>\n",
       "      <td>18</td>\n",
       "      <td>10</td>\n",
       "      <td>1.59</td>\n",
       "      <td>180</td>\n",
       "      <td>69</td>\n",
       "      <td>NaN</td>\n",
       "      <td>...</td>\n",
       "      <td>NaN</td>\n",
       "      <td>NaN</td>\n",
       "      <td>NaN</td>\n",
       "      <td>0.0</td>\n",
       "      <td>NaN</td>\n",
       "      <td>NaN</td>\n",
       "      <td>NaN</td>\n",
       "      <td>NaN</td>\n",
       "      <td>NaN</td>\n",
       "      <td>NaN</td>\n",
       "    </tr>\n",
       "    <tr>\n",
       "      <th>4</th>\n",
       "      <td>2019-04-01</td>\n",
       "      <td>B</td>\n",
       "      <td>9D01B</td>\n",
       "      <td>Cylinder Block _ CMA</td>\n",
       "      <td>193</td>\n",
       "      <td>10</td>\n",
       "      <td>1.59</td>\n",
       "      <td>1930</td>\n",
       "      <td>166</td>\n",
       "      <td>NaN</td>\n",
       "      <td>...</td>\n",
       "      <td>NaN</td>\n",
       "      <td>NaN</td>\n",
       "      <td>NaN</td>\n",
       "      <td>0.0</td>\n",
       "      <td>NaN</td>\n",
       "      <td>NaN</td>\n",
       "      <td>NaN</td>\n",
       "      <td>NaN</td>\n",
       "      <td>NaN</td>\n",
       "      <td>NaN</td>\n",
       "    </tr>\n",
       "  </tbody>\n",
       "</table>\n",
       "<p>5 rows × 88 columns</p>\n",
       "</div>"
      ],
      "text/plain": [
       "  Production Date Shift Heat No.                        Component Id  \\\n",
       "0      2019-04-01     A    9D01A                 Disc FR Brake  _XBA   \n",
       "1      2019-04-01     A    9D01A  Disk FR Brake - Model L  YAD / YBA   \n",
       "2      2019-04-01     A    9D01A               Disc, Front Brake,YL8   \n",
       "3      2019-04-01     B    9D01A                Cylinder Block _ CMA   \n",
       "4      2019-04-01     B    9D01B                Cylinder Block _ CMA   \n",
       "\n",
       "   No. of Boxes Poured (No)  No. of Castings Per Box (No)  \\\n",
       "0                       479                             4   \n",
       "1                       500                             2   \n",
       "2                       556                             2   \n",
       "3                        18                            10   \n",
       "4                       193                            10   \n",
       "\n",
       "   Nett Casting Wt (Kg)  Total Quantity Produced (no)  \\\n",
       "0                  4.08                          1916   \n",
       "1                  8.59                          1000   \n",
       "2                  7.67                          1112   \n",
       "3                  1.59                           180   \n",
       "4                  1.59                          1930   \n",
       "\n",
       "   Total Sand Rejection Quantity (no)  Total Castings Salvaged (no)  ...  \\\n",
       "0                                  43                           NaN  ...   \n",
       "1                                  77                           NaN  ...   \n",
       "2                                  25                           NaN  ...   \n",
       "3                                  69                           NaN  ...   \n",
       "4                                 166                           NaN  ...   \n",
       "\n",
       "   Knock Out Damage (no)  Ingate Breakage (no)  Decoring Damage (no)  \\\n",
       "0                    NaN                   NaN                   NaN   \n",
       "1                    NaN                   NaN                   NaN   \n",
       "2                    NaN                   NaN                   NaN   \n",
       "3                    NaN                   NaN                   NaN   \n",
       "4                    NaN                   NaN                   NaN   \n",
       "\n",
       "   Unclean (no)  Mould Press (no)  Other Defects 1 (no)  Other Defects 2 (no)  \\\n",
       "0           0.0               NaN                   NaN                   NaN   \n",
       "1           0.0               NaN                   NaN                   NaN   \n",
       "2           0.0               NaN                   NaN                   NaN   \n",
       "3           0.0               NaN                   NaN                   NaN   \n",
       "4           0.0               NaN                   NaN                   NaN   \n",
       "\n",
       "   Other Defects 3 (no)  Other Defects 4 (no)  Other Defects 5 (no)  \n",
       "0                   NaN                   NaN                   NaN  \n",
       "1                   NaN                   NaN                   NaN  \n",
       "2                   NaN                   NaN                   NaN  \n",
       "3                   NaN                   NaN                   NaN  \n",
       "4                   NaN                   NaN                   NaN  \n",
       "\n",
       "[5 rows x 88 columns]"
      ]
     },
     "execution_count": 358,
     "metadata": {},
     "output_type": "execute_result"
    }
   ],
   "source": [
    "print(rejection.shape)\n",
    "rejection.head()"
   ]
  },
  {
   "cell_type": "code",
   "execution_count": 359,
   "metadata": {
    "ExecuteTime": {
     "end_time": "2018-06-15T10:29:05.845309Z",
     "start_time": "2018-06-15T10:29:05.665432Z"
    },
    "hidden": true
   },
   "outputs": [],
   "source": [
    "rejection = rejection[[\"Production Date\", #\"Shift\", \"Heat No.\", \"Nett Casting Wt (Kg)\", \n",
    "                       \"Total Quantity Produced (no)\",\"Total Sand Rejection Quantity (no)\" ]]"
   ]
  },
  {
   "cell_type": "code",
   "execution_count": 360,
   "metadata": {
    "ExecuteTime": {
     "end_time": "2018-06-15T10:29:06.017140Z",
     "start_time": "2018-06-15T10:29:05.852472Z"
    },
    "hidden": true
   },
   "outputs": [
    {
     "data": {
      "text/html": [
       "<div>\n",
       "<style scoped>\n",
       "    .dataframe tbody tr th:only-of-type {\n",
       "        vertical-align: middle;\n",
       "    }\n",
       "\n",
       "    .dataframe tbody tr th {\n",
       "        vertical-align: top;\n",
       "    }\n",
       "\n",
       "    .dataframe thead th {\n",
       "        text-align: right;\n",
       "    }\n",
       "</style>\n",
       "<table border=\"1\" class=\"dataframe\">\n",
       "  <thead>\n",
       "    <tr style=\"text-align: right;\">\n",
       "      <th></th>\n",
       "      <th>Production Date</th>\n",
       "      <th>Total Quantity Produced (no)</th>\n",
       "      <th>Total Sand Rejection Quantity (no)</th>\n",
       "    </tr>\n",
       "  </thead>\n",
       "  <tbody>\n",
       "    <tr>\n",
       "      <th>0</th>\n",
       "      <td>2019-04-01</td>\n",
       "      <td>1916</td>\n",
       "      <td>43</td>\n",
       "    </tr>\n",
       "    <tr>\n",
       "      <th>1</th>\n",
       "      <td>2019-04-01</td>\n",
       "      <td>1000</td>\n",
       "      <td>77</td>\n",
       "    </tr>\n",
       "    <tr>\n",
       "      <th>2</th>\n",
       "      <td>2019-04-01</td>\n",
       "      <td>1112</td>\n",
       "      <td>25</td>\n",
       "    </tr>\n",
       "    <tr>\n",
       "      <th>3</th>\n",
       "      <td>2019-04-01</td>\n",
       "      <td>180</td>\n",
       "      <td>69</td>\n",
       "    </tr>\n",
       "    <tr>\n",
       "      <th>4</th>\n",
       "      <td>2019-04-01</td>\n",
       "      <td>1930</td>\n",
       "      <td>166</td>\n",
       "    </tr>\n",
       "  </tbody>\n",
       "</table>\n",
       "</div>"
      ],
      "text/plain": [
       "  Production Date  Total Quantity Produced (no)  \\\n",
       "0      2019-04-01                          1916   \n",
       "1      2019-04-01                          1000   \n",
       "2      2019-04-01                          1112   \n",
       "3      2019-04-01                           180   \n",
       "4      2019-04-01                          1930   \n",
       "\n",
       "   Total Sand Rejection Quantity (no)  \n",
       "0                                  43  \n",
       "1                                  77  \n",
       "2                                  25  \n",
       "3                                  69  \n",
       "4                                 166  "
      ]
     },
     "execution_count": 360,
     "metadata": {},
     "output_type": "execute_result"
    }
   ],
   "source": [
    "rejection.head()"
   ]
  },
  {
   "cell_type": "code",
   "execution_count": 361,
   "metadata": {
    "ExecuteTime": {
     "end_time": "2018-06-15T10:29:06.241871Z",
     "start_time": "2018-06-15T10:29:06.019260Z"
    },
    "hidden": true
   },
   "outputs": [],
   "source": [
    "rejection = rejection.groupby(\"Production Date\").sum()"
   ]
  },
  {
   "cell_type": "code",
   "execution_count": 362,
   "metadata": {},
   "outputs": [
    {
     "data": {
      "text/html": [
       "<div>\n",
       "<style scoped>\n",
       "    .dataframe tbody tr th:only-of-type {\n",
       "        vertical-align: middle;\n",
       "    }\n",
       "\n",
       "    .dataframe tbody tr th {\n",
       "        vertical-align: top;\n",
       "    }\n",
       "\n",
       "    .dataframe thead th {\n",
       "        text-align: right;\n",
       "    }\n",
       "</style>\n",
       "<table border=\"1\" class=\"dataframe\">\n",
       "  <thead>\n",
       "    <tr style=\"text-align: right;\">\n",
       "      <th></th>\n",
       "      <th>Total Quantity Produced (no)</th>\n",
       "      <th>Total Sand Rejection Quantity (no)</th>\n",
       "    </tr>\n",
       "    <tr>\n",
       "      <th>Production Date</th>\n",
       "      <th></th>\n",
       "      <th></th>\n",
       "    </tr>\n",
       "  </thead>\n",
       "  <tbody>\n",
       "    <tr>\n",
       "      <th>2019-04-01</th>\n",
       "      <td>23043</td>\n",
       "      <td>593</td>\n",
       "    </tr>\n",
       "    <tr>\n",
       "      <th>2019-04-02</th>\n",
       "      <td>16370</td>\n",
       "      <td>257</td>\n",
       "    </tr>\n",
       "    <tr>\n",
       "      <th>2019-04-03</th>\n",
       "      <td>24724</td>\n",
       "      <td>642</td>\n",
       "    </tr>\n",
       "    <tr>\n",
       "      <th>2019-04-04</th>\n",
       "      <td>16835</td>\n",
       "      <td>355</td>\n",
       "    </tr>\n",
       "    <tr>\n",
       "      <th>2019-04-05</th>\n",
       "      <td>16384</td>\n",
       "      <td>355</td>\n",
       "    </tr>\n",
       "  </tbody>\n",
       "</table>\n",
       "</div>"
      ],
      "text/plain": [
       "                 Total Quantity Produced (no)  \\\n",
       "Production Date                                 \n",
       "2019-04-01                              23043   \n",
       "2019-04-02                              16370   \n",
       "2019-04-03                              24724   \n",
       "2019-04-04                              16835   \n",
       "2019-04-05                              16384   \n",
       "\n",
       "                 Total Sand Rejection Quantity (no)  \n",
       "Production Date                                      \n",
       "2019-04-01                                      593  \n",
       "2019-04-02                                      257  \n",
       "2019-04-03                                      642  \n",
       "2019-04-04                                      355  \n",
       "2019-04-05                                      355  "
      ]
     },
     "execution_count": 362,
     "metadata": {},
     "output_type": "execute_result"
    }
   ],
   "source": [
    "rejection.head()"
   ]
  },
  {
   "cell_type": "code",
   "execution_count": 363,
   "metadata": {
    "ExecuteTime": {
     "end_time": "2018-06-15T10:29:06.429015Z",
     "start_time": "2018-06-15T10:29:06.248352Z"
    },
    "hidden": true
   },
   "outputs": [],
   "source": [
    "rejection[\"Rejection (%)\"] = 100*rejection[\"Total Sand Rejection Quantity (no)\"]/rejection[\"Total Quantity Produced (no)\"]"
   ]
  },
  {
   "cell_type": "code",
   "execution_count": 364,
   "metadata": {
    "ExecuteTime": {
     "end_time": "2018-06-15T10:29:06.651039Z",
     "start_time": "2018-06-15T10:29:06.434227Z"
    },
    "hidden": true,
    "scrolled": true
   },
   "outputs": [
    {
     "data": {
      "text/html": [
       "<div>\n",
       "<style scoped>\n",
       "    .dataframe tbody tr th:only-of-type {\n",
       "        vertical-align: middle;\n",
       "    }\n",
       "\n",
       "    .dataframe tbody tr th {\n",
       "        vertical-align: top;\n",
       "    }\n",
       "\n",
       "    .dataframe thead th {\n",
       "        text-align: right;\n",
       "    }\n",
       "</style>\n",
       "<table border=\"1\" class=\"dataframe\">\n",
       "  <thead>\n",
       "    <tr style=\"text-align: right;\">\n",
       "      <th></th>\n",
       "      <th>Total Quantity Produced (no)</th>\n",
       "      <th>Total Sand Rejection Quantity (no)</th>\n",
       "      <th>Rejection (%)</th>\n",
       "    </tr>\n",
       "    <tr>\n",
       "      <th>Production Date</th>\n",
       "      <th></th>\n",
       "      <th></th>\n",
       "      <th></th>\n",
       "    </tr>\n",
       "  </thead>\n",
       "  <tbody>\n",
       "    <tr>\n",
       "      <th>2019-11-04</th>\n",
       "      <td>19374</td>\n",
       "      <td>464</td>\n",
       "      <td>2.394962</td>\n",
       "    </tr>\n",
       "    <tr>\n",
       "      <th>2019-11-05</th>\n",
       "      <td>16683</td>\n",
       "      <td>324</td>\n",
       "      <td>1.942097</td>\n",
       "    </tr>\n",
       "    <tr>\n",
       "      <th>2019-11-06</th>\n",
       "      <td>30078</td>\n",
       "      <td>958</td>\n",
       "      <td>3.185052</td>\n",
       "    </tr>\n",
       "    <tr>\n",
       "      <th>2019-11-07</th>\n",
       "      <td>16035</td>\n",
       "      <td>312</td>\n",
       "      <td>1.945744</td>\n",
       "    </tr>\n",
       "    <tr>\n",
       "      <th>2019-11-08</th>\n",
       "      <td>16916</td>\n",
       "      <td>326</td>\n",
       "      <td>1.927170</td>\n",
       "    </tr>\n",
       "    <tr>\n",
       "      <th>...</th>\n",
       "      <td>...</td>\n",
       "      <td>...</td>\n",
       "      <td>...</td>\n",
       "    </tr>\n",
       "    <tr>\n",
       "      <th>2020-01-24</th>\n",
       "      <td>18545</td>\n",
       "      <td>670</td>\n",
       "      <td>3.612834</td>\n",
       "    </tr>\n",
       "    <tr>\n",
       "      <th>2020-01-25</th>\n",
       "      <td>2925</td>\n",
       "      <td>224</td>\n",
       "      <td>7.658120</td>\n",
       "    </tr>\n",
       "    <tr>\n",
       "      <th>2020-01-28</th>\n",
       "      <td>17106</td>\n",
       "      <td>768</td>\n",
       "      <td>4.489653</td>\n",
       "    </tr>\n",
       "    <tr>\n",
       "      <th>2020-01-29</th>\n",
       "      <td>18513</td>\n",
       "      <td>788</td>\n",
       "      <td>4.256468</td>\n",
       "    </tr>\n",
       "    <tr>\n",
       "      <th>2020-01-30</th>\n",
       "      <td>18524</td>\n",
       "      <td>537</td>\n",
       "      <td>2.898942</td>\n",
       "    </tr>\n",
       "  </tbody>\n",
       "</table>\n",
       "<p>62 rows × 3 columns</p>\n",
       "</div>"
      ],
      "text/plain": [
       "                 Total Quantity Produced (no)  \\\n",
       "Production Date                                 \n",
       "2019-11-04                              19374   \n",
       "2019-11-05                              16683   \n",
       "2019-11-06                              30078   \n",
       "2019-11-07                              16035   \n",
       "2019-11-08                              16916   \n",
       "...                                       ...   \n",
       "2020-01-24                              18545   \n",
       "2020-01-25                               2925   \n",
       "2020-01-28                              17106   \n",
       "2020-01-29                              18513   \n",
       "2020-01-30                              18524   \n",
       "\n",
       "                 Total Sand Rejection Quantity (no)  Rejection (%)  \n",
       "Production Date                                                     \n",
       "2019-11-04                                      464       2.394962  \n",
       "2019-11-05                                      324       1.942097  \n",
       "2019-11-06                                      958       3.185052  \n",
       "2019-11-07                                      312       1.945744  \n",
       "2019-11-08                                      326       1.927170  \n",
       "...                                             ...            ...  \n",
       "2020-01-24                                      670       3.612834  \n",
       "2020-01-25                                      224       7.658120  \n",
       "2020-01-28                                      768       4.489653  \n",
       "2020-01-29                                      788       4.256468  \n",
       "2020-01-30                                      537       2.898942  \n",
       "\n",
       "[62 rows x 3 columns]"
      ]
     },
     "execution_count": 364,
     "metadata": {},
     "output_type": "execute_result"
    }
   ],
   "source": [
    "rejection[\"1 Nov 2019\":]"
   ]
  },
  {
   "cell_type": "code",
   "execution_count": 365,
   "metadata": {
    "ExecuteTime": {
     "end_time": "2018-06-15T10:29:06.829205Z",
     "start_time": "2018-06-15T10:29:06.658940Z"
    },
    "hidden": true
   },
   "outputs": [
    {
     "data": {
      "text/html": [
       "<div>\n",
       "<style scoped>\n",
       "    .dataframe tbody tr th:only-of-type {\n",
       "        vertical-align: middle;\n",
       "    }\n",
       "\n",
       "    .dataframe tbody tr th {\n",
       "        vertical-align: top;\n",
       "    }\n",
       "\n",
       "    .dataframe thead th {\n",
       "        text-align: right;\n",
       "    }\n",
       "</style>\n",
       "<table border=\"1\" class=\"dataframe\">\n",
       "  <thead>\n",
       "    <tr style=\"text-align: right;\">\n",
       "      <th></th>\n",
       "      <th>Total Quantity Produced (no)</th>\n",
       "      <th>Total Sand Rejection Quantity (no)</th>\n",
       "      <th>Rejection (%)</th>\n",
       "    </tr>\n",
       "    <tr>\n",
       "      <th>Production Date</th>\n",
       "      <th></th>\n",
       "      <th></th>\n",
       "      <th></th>\n",
       "    </tr>\n",
       "  </thead>\n",
       "  <tbody>\n",
       "  </tbody>\n",
       "</table>\n",
       "</div>"
      ],
      "text/plain": [
       "Empty DataFrame\n",
       "Columns: [Total Quantity Produced (no), Total Sand Rejection Quantity (no), Rejection (%)]\n",
       "Index: []"
      ]
     },
     "execution_count": 365,
     "metadata": {},
     "output_type": "execute_result"
    }
   ],
   "source": [
    "rejection[rejection[\"Rejection (%)\"] > 100]"
   ]
  },
  {
   "cell_type": "code",
   "execution_count": 366,
   "metadata": {},
   "outputs": [
    {
     "data": {
      "text/plain": [
       "(Index(['GCS (kg/cm2)', 'Compactability (%)', 'Active Clay (%)',\n",
       "        'Wet Tensile Strength (gm/cm2)', 'LOI (%)', 'Moisture (%)',\n",
       "        'Inert Fines (%)', 'Volatile Matter (%)', 'Specimen Weight (gm)',\n",
       "        'Permeability (no)', 'GFN/AFS (no)', 'Temp. of Sand after mix.(C)'],\n",
       "       dtype='object'), (197, 12))"
      ]
     },
     "execution_count": 366,
     "metadata": {},
     "output_type": "execute_result"
    }
   ],
   "source": [
    "prepSand.columns, prepSand.shape"
   ]
  },
  {
   "cell_type": "code",
   "execution_count": 368,
   "metadata": {
    "ExecuteTime": {
     "end_time": "2018-06-15T10:29:07.004590Z",
     "start_time": "2018-06-15T10:29:06.837317Z"
    },
    "hidden": true
   },
   "outputs": [],
   "source": [
    "#cols = [\"GCS (gm/cm2)\", \"Compactability (no)\", \"Active Clay (%)\", \"Wet Tensile Strength (gm/cm2)\", \"LOI (%)\", \"Moisture (%)\", \"Inert Fines (%)\", \"Volatile Matter (%)\", \"Permeability (no)\", \"Shear Strength (gm/cm2)\", \"pH Value (no)\", \"GFN/AFS (no)\"]\n",
    "#cols = [\"GCS (gm/cm2)\", \"Compactability (%)\", \"Active Clay (%)\", \"Wet Tensile Strength (gm/cm2)\", \"LOI (%)\", \"Moisture (%)\", \"Inert Fines (%)\",  \"Permeability (no)\", \"Shatter Index No. (No)\"]\n",
    "\n",
    "# brakes validation\n",
    "# cols = [\"GCS (gm/cm2)\", \"Compactability (%)\", \"Active Clay (%)\", \"Wet Tensile Strength (gm/cm2)\", \"LOI (%)\", \"Moisture (%)\", \"Inert Fines (%)\",  \"Permeability (no)\", 'Shear Strength (gm/cm2)']\n",
    "\n",
    "# munjal validation\n",
    "cols = ['GCS (kg/cm2)', 'Compactability (%)', 'Active Clay (%)',\n",
    "        'Wet Tensile Strength (gm/cm2)', 'LOI (%)', 'Moisture (%)',\n",
    "        'Inert Fines (%)', 'Volatile Matter (%)', \n",
    "        'Permeability (no)', 'GFN/AFS (no)', 'Temp. of Sand after mix.(C)']\n",
    "\n",
    "# Nelcast ponneri validation\n",
    "# cols = ['GCS (gm/cm2)',\n",
    "#         'Compactability (%)', 'Active Clay (%)',\n",
    "#         'Wet Tensile Strength (gm/cm2)', 'LOI (%)', 'Moisture (%)',\n",
    "#         'Inert Fines (%)',\n",
    "#         'Permeability (no)', 'Shear Strength (gm/cm2)',\n",
    "#         ]\n",
    "\n",
    "prepSand = prepSand.groupby(\"Date\").mean()[cols]"
   ]
  },
  {
   "cell_type": "code",
   "execution_count": 369,
   "metadata": {
    "ExecuteTime": {
     "end_time": "2018-06-15T10:29:07.192094Z",
     "start_time": "2018-06-15T10:29:07.010726Z"
    },
    "hidden": true
   },
   "outputs": [],
   "source": [
    "#startDay = \"1 Jan 2019\""
   ]
  },
  {
   "cell_type": "code",
   "execution_count": 370,
   "metadata": {
    "ExecuteTime": {
     "end_time": "2018-06-15T10:29:07.300731Z",
     "start_time": "2018-06-15T10:29:07.198690Z"
    },
    "hidden": true
   },
   "outputs": [],
   "source": [
    "#prepSand = prepSand[startDay:]"
   ]
  },
  {
   "cell_type": "code",
   "execution_count": 371,
   "metadata": {
    "ExecuteTime": {
     "end_time": "2018-06-15T10:29:07.450687Z",
     "start_time": "2018-06-15T10:29:07.305641Z"
    },
    "hidden": true
   },
   "outputs": [],
   "source": [
    "#rejection = rejection[startDay:]"
   ]
  },
  {
   "cell_type": "code",
   "execution_count": 372,
   "metadata": {
    "ExecuteTime": {
     "end_time": "2018-06-15T10:29:07.620031Z",
     "start_time": "2018-06-15T10:29:07.456696Z"
    },
    "hidden": true
   },
   "outputs": [],
   "source": [
    "totData = prepSand.join(rejection[\"Rejection (%)\"])"
   ]
  },
  {
   "cell_type": "code",
   "execution_count": 373,
   "metadata": {},
   "outputs": [
    {
     "name": "stdout",
     "output_type": "stream",
     "text": [
      "(197, 12)\n"
     ]
    }
   ],
   "source": [
    "print(totData.shape)"
   ]
  },
  {
   "cell_type": "code",
   "execution_count": 374,
   "metadata": {
    "ExecuteTime": {
     "end_time": "2018-06-15T10:29:07.858059Z",
     "start_time": "2018-06-15T10:29:07.624850Z"
    },
    "hidden": true
   },
   "outputs": [
    {
     "data": {
      "text/html": [
       "<div>\n",
       "<style scoped>\n",
       "    .dataframe tbody tr th:only-of-type {\n",
       "        vertical-align: middle;\n",
       "    }\n",
       "\n",
       "    .dataframe tbody tr th {\n",
       "        vertical-align: top;\n",
       "    }\n",
       "\n",
       "    .dataframe thead th {\n",
       "        text-align: right;\n",
       "    }\n",
       "</style>\n",
       "<table border=\"1\" class=\"dataframe\">\n",
       "  <thead>\n",
       "    <tr style=\"text-align: right;\">\n",
       "      <th></th>\n",
       "      <th>GCS (kg/cm2)</th>\n",
       "      <th>Compactability (%)</th>\n",
       "      <th>Active Clay (%)</th>\n",
       "      <th>Wet Tensile Strength (gm/cm2)</th>\n",
       "      <th>LOI (%)</th>\n",
       "      <th>Moisture (%)</th>\n",
       "      <th>Inert Fines (%)</th>\n",
       "      <th>Volatile Matter (%)</th>\n",
       "      <th>Permeability (no)</th>\n",
       "      <th>GFN/AFS (no)</th>\n",
       "      <th>Temp. of Sand after mix.(C)</th>\n",
       "      <th>Rejection (%)</th>\n",
       "    </tr>\n",
       "    <tr>\n",
       "      <th>Date</th>\n",
       "      <th></th>\n",
       "      <th></th>\n",
       "      <th></th>\n",
       "      <th></th>\n",
       "      <th></th>\n",
       "      <th></th>\n",
       "      <th></th>\n",
       "      <th></th>\n",
       "      <th></th>\n",
       "      <th></th>\n",
       "      <th></th>\n",
       "      <th></th>\n",
       "    </tr>\n",
       "  </thead>\n",
       "  <tbody>\n",
       "    <tr>\n",
       "      <th>2019-04-01</th>\n",
       "      <td>1.657895</td>\n",
       "      <td>36.210526</td>\n",
       "      <td>8.50</td>\n",
       "      <td>10.863158</td>\n",
       "      <td>2.60</td>\n",
       "      <td>2.675789</td>\n",
       "      <td>2.60</td>\n",
       "      <td>2.64</td>\n",
       "      <td>122.894737</td>\n",
       "      <td>66.94</td>\n",
       "      <td>39.842105</td>\n",
       "      <td>2.573450</td>\n",
       "    </tr>\n",
       "    <tr>\n",
       "      <th>2019-04-02</th>\n",
       "      <td>1.659231</td>\n",
       "      <td>36.615385</td>\n",
       "      <td>8.50</td>\n",
       "      <td>10.461538</td>\n",
       "      <td>2.62</td>\n",
       "      <td>2.710000</td>\n",
       "      <td>2.58</td>\n",
       "      <td>2.62</td>\n",
       "      <td>130.000000</td>\n",
       "      <td>66.90</td>\n",
       "      <td>41.076923</td>\n",
       "      <td>1.569945</td>\n",
       "    </tr>\n",
       "    <tr>\n",
       "      <th>2019-04-03</th>\n",
       "      <td>1.726923</td>\n",
       "      <td>36.692308</td>\n",
       "      <td>8.38</td>\n",
       "      <td>11.846154</td>\n",
       "      <td>2.55</td>\n",
       "      <td>2.691538</td>\n",
       "      <td>2.67</td>\n",
       "      <td>2.65</td>\n",
       "      <td>126.153846</td>\n",
       "      <td>68.02</td>\n",
       "      <td>41.538462</td>\n",
       "      <td>2.596667</td>\n",
       "    </tr>\n",
       "    <tr>\n",
       "      <th>2019-04-04</th>\n",
       "      <td>1.719231</td>\n",
       "      <td>37.769231</td>\n",
       "      <td>8.38</td>\n",
       "      <td>11.053846</td>\n",
       "      <td>2.62</td>\n",
       "      <td>2.796923</td>\n",
       "      <td>2.66</td>\n",
       "      <td>2.60</td>\n",
       "      <td>126.538462</td>\n",
       "      <td>65.97</td>\n",
       "      <td>39.923077</td>\n",
       "      <td>2.108702</td>\n",
       "    </tr>\n",
       "    <tr>\n",
       "      <th>2019-04-05</th>\n",
       "      <td>1.737692</td>\n",
       "      <td>36.538462</td>\n",
       "      <td>8.50</td>\n",
       "      <td>9.807692</td>\n",
       "      <td>2.60</td>\n",
       "      <td>2.703846</td>\n",
       "      <td>2.60</td>\n",
       "      <td>2.59</td>\n",
       "      <td>123.461538</td>\n",
       "      <td>65.82</td>\n",
       "      <td>41.538462</td>\n",
       "      <td>2.166748</td>\n",
       "    </tr>\n",
       "  </tbody>\n",
       "</table>\n",
       "</div>"
      ],
      "text/plain": [
       "            GCS (kg/cm2)  Compactability (%)  Active Clay (%)  \\\n",
       "Date                                                            \n",
       "2019-04-01      1.657895           36.210526             8.50   \n",
       "2019-04-02      1.659231           36.615385             8.50   \n",
       "2019-04-03      1.726923           36.692308             8.38   \n",
       "2019-04-04      1.719231           37.769231             8.38   \n",
       "2019-04-05      1.737692           36.538462             8.50   \n",
       "\n",
       "            Wet Tensile Strength (gm/cm2)  LOI (%)  Moisture (%)  \\\n",
       "Date                                                               \n",
       "2019-04-01                      10.863158     2.60      2.675789   \n",
       "2019-04-02                      10.461538     2.62      2.710000   \n",
       "2019-04-03                      11.846154     2.55      2.691538   \n",
       "2019-04-04                      11.053846     2.62      2.796923   \n",
       "2019-04-05                       9.807692     2.60      2.703846   \n",
       "\n",
       "            Inert Fines (%)  Volatile Matter (%)  Permeability (no)  \\\n",
       "Date                                                                  \n",
       "2019-04-01             2.60                 2.64         122.894737   \n",
       "2019-04-02             2.58                 2.62         130.000000   \n",
       "2019-04-03             2.67                 2.65         126.153846   \n",
       "2019-04-04             2.66                 2.60         126.538462   \n",
       "2019-04-05             2.60                 2.59         123.461538   \n",
       "\n",
       "            GFN/AFS (no)  Temp. of Sand after mix.(C)  Rejection (%)  \n",
       "Date                                                                  \n",
       "2019-04-01         66.94                    39.842105       2.573450  \n",
       "2019-04-02         66.90                    41.076923       1.569945  \n",
       "2019-04-03         68.02                    41.538462       2.596667  \n",
       "2019-04-04         65.97                    39.923077       2.108702  \n",
       "2019-04-05         65.82                    41.538462       2.166748  "
      ]
     },
     "execution_count": 374,
     "metadata": {},
     "output_type": "execute_result"
    }
   ],
   "source": [
    "totData.head()"
   ]
  },
  {
   "cell_type": "code",
   "execution_count": 375,
   "metadata": {
    "ExecuteTime": {
     "end_time": "2018-06-15T10:29:08.293123Z",
     "start_time": "2018-06-15T10:29:08.128465Z"
    },
    "hidden": true
   },
   "outputs": [
    {
     "data": {
      "text/html": [
       "<div>\n",
       "<style scoped>\n",
       "    .dataframe tbody tr th:only-of-type {\n",
       "        vertical-align: middle;\n",
       "    }\n",
       "\n",
       "    .dataframe tbody tr th {\n",
       "        vertical-align: top;\n",
       "    }\n",
       "\n",
       "    .dataframe thead th {\n",
       "        text-align: right;\n",
       "    }\n",
       "</style>\n",
       "<table border=\"1\" class=\"dataframe\">\n",
       "  <thead>\n",
       "    <tr style=\"text-align: right;\">\n",
       "      <th></th>\n",
       "      <th>GCS (kg/cm2)</th>\n",
       "      <th>Compactability (%)</th>\n",
       "      <th>Active Clay (%)</th>\n",
       "      <th>Wet Tensile Strength (gm/cm2)</th>\n",
       "      <th>LOI (%)</th>\n",
       "      <th>Moisture (%)</th>\n",
       "      <th>Inert Fines (%)</th>\n",
       "      <th>Volatile Matter (%)</th>\n",
       "      <th>Permeability (no)</th>\n",
       "      <th>GFN/AFS (no)</th>\n",
       "      <th>Temp. of Sand after mix.(C)</th>\n",
       "      <th>Rejection (%)</th>\n",
       "    </tr>\n",
       "  </thead>\n",
       "  <tbody>\n",
       "    <tr>\n",
       "      <th>count</th>\n",
       "      <td>197.000000</td>\n",
       "      <td>197.000000</td>\n",
       "      <td>196.000000</td>\n",
       "      <td>197.000000</td>\n",
       "      <td>196.000000</td>\n",
       "      <td>197.000000</td>\n",
       "      <td>196.000000</td>\n",
       "      <td>196.000000</td>\n",
       "      <td>197.000000</td>\n",
       "      <td>196.000000</td>\n",
       "      <td>197.000000</td>\n",
       "      <td>197.000000</td>\n",
       "    </tr>\n",
       "    <tr>\n",
       "      <th>mean</th>\n",
       "      <td>1.676577</td>\n",
       "      <td>40.163355</td>\n",
       "      <td>8.540924</td>\n",
       "      <td>12.357843</td>\n",
       "      <td>2.765189</td>\n",
       "      <td>2.909187</td>\n",
       "      <td>2.436720</td>\n",
       "      <td>2.581548</td>\n",
       "      <td>131.516460</td>\n",
       "      <td>68.877715</td>\n",
       "      <td>41.473421</td>\n",
       "      <td>2.596404</td>\n",
       "    </tr>\n",
       "    <tr>\n",
       "      <th>std</th>\n",
       "      <td>0.081832</td>\n",
       "      <td>2.115509</td>\n",
       "      <td>0.232623</td>\n",
       "      <td>1.624480</td>\n",
       "      <td>0.153943</td>\n",
       "      <td>0.116047</td>\n",
       "      <td>0.202617</td>\n",
       "      <td>0.125573</td>\n",
       "      <td>6.766247</td>\n",
       "      <td>1.369998</td>\n",
       "      <td>2.430779</td>\n",
       "      <td>1.061451</td>\n",
       "    </tr>\n",
       "    <tr>\n",
       "      <th>min</th>\n",
       "      <td>1.519000</td>\n",
       "      <td>36.000000</td>\n",
       "      <td>8.110000</td>\n",
       "      <td>8.240000</td>\n",
       "      <td>2.453333</td>\n",
       "      <td>2.675789</td>\n",
       "      <td>2.003333</td>\n",
       "      <td>2.256667</td>\n",
       "      <td>116.111111</td>\n",
       "      <td>64.850000</td>\n",
       "      <td>33.545455</td>\n",
       "      <td>0.000000</td>\n",
       "    </tr>\n",
       "    <tr>\n",
       "      <th>25%</th>\n",
       "      <td>1.613846</td>\n",
       "      <td>38.500000</td>\n",
       "      <td>8.379167</td>\n",
       "      <td>11.354545</td>\n",
       "      <td>2.640000</td>\n",
       "      <td>2.804167</td>\n",
       "      <td>2.265833</td>\n",
       "      <td>2.493958</td>\n",
       "      <td>126.250000</td>\n",
       "      <td>68.705000</td>\n",
       "      <td>40.000000</td>\n",
       "      <td>1.978595</td>\n",
       "    </tr>\n",
       "    <tr>\n",
       "      <th>50%</th>\n",
       "      <td>1.662500</td>\n",
       "      <td>40.818182</td>\n",
       "      <td>8.530000</td>\n",
       "      <td>12.316667</td>\n",
       "      <td>2.735000</td>\n",
       "      <td>2.945000</td>\n",
       "      <td>2.460000</td>\n",
       "      <td>2.600000</td>\n",
       "      <td>130.416667</td>\n",
       "      <td>69.445000</td>\n",
       "      <td>42.133333</td>\n",
       "      <td>2.438274</td>\n",
       "    </tr>\n",
       "    <tr>\n",
       "      <th>75%</th>\n",
       "      <td>1.723846</td>\n",
       "      <td>41.666667</td>\n",
       "      <td>8.700000</td>\n",
       "      <td>13.430769</td>\n",
       "      <td>2.865000</td>\n",
       "      <td>2.999167</td>\n",
       "      <td>2.600000</td>\n",
       "      <td>2.662500</td>\n",
       "      <td>136.250000</td>\n",
       "      <td>69.735000</td>\n",
       "      <td>43.333333</td>\n",
       "      <td>3.048881</td>\n",
       "    </tr>\n",
       "    <tr>\n",
       "      <th>max</th>\n",
       "      <td>1.960769</td>\n",
       "      <td>43.750000</td>\n",
       "      <td>9.036667</td>\n",
       "      <td>16.728571</td>\n",
       "      <td>3.276667</td>\n",
       "      <td>3.183571</td>\n",
       "      <td>2.900000</td>\n",
       "      <td>2.873333</td>\n",
       "      <td>150.416667</td>\n",
       "      <td>70.300000</td>\n",
       "      <td>44.833333</td>\n",
       "      <td>7.745350</td>\n",
       "    </tr>\n",
       "  </tbody>\n",
       "</table>\n",
       "</div>"
      ],
      "text/plain": [
       "       GCS (kg/cm2)  Compactability (%)  Active Clay (%)  \\\n",
       "count    197.000000          197.000000       196.000000   \n",
       "mean       1.676577           40.163355         8.540924   \n",
       "std        0.081832            2.115509         0.232623   \n",
       "min        1.519000           36.000000         8.110000   \n",
       "25%        1.613846           38.500000         8.379167   \n",
       "50%        1.662500           40.818182         8.530000   \n",
       "75%        1.723846           41.666667         8.700000   \n",
       "max        1.960769           43.750000         9.036667   \n",
       "\n",
       "       Wet Tensile Strength (gm/cm2)     LOI (%)  Moisture (%)  \\\n",
       "count                     197.000000  196.000000    197.000000   \n",
       "mean                       12.357843    2.765189      2.909187   \n",
       "std                         1.624480    0.153943      0.116047   \n",
       "min                         8.240000    2.453333      2.675789   \n",
       "25%                        11.354545    2.640000      2.804167   \n",
       "50%                        12.316667    2.735000      2.945000   \n",
       "75%                        13.430769    2.865000      2.999167   \n",
       "max                        16.728571    3.276667      3.183571   \n",
       "\n",
       "       Inert Fines (%)  Volatile Matter (%)  Permeability (no)  GFN/AFS (no)  \\\n",
       "count       196.000000           196.000000         197.000000    196.000000   \n",
       "mean          2.436720             2.581548         131.516460     68.877715   \n",
       "std           0.202617             0.125573           6.766247      1.369998   \n",
       "min           2.003333             2.256667         116.111111     64.850000   \n",
       "25%           2.265833             2.493958         126.250000     68.705000   \n",
       "50%           2.460000             2.600000         130.416667     69.445000   \n",
       "75%           2.600000             2.662500         136.250000     69.735000   \n",
       "max           2.900000             2.873333         150.416667     70.300000   \n",
       "\n",
       "       Temp. of Sand after mix.(C)  Rejection (%)  \n",
       "count                   197.000000     197.000000  \n",
       "mean                     41.473421       2.596404  \n",
       "std                       2.430779       1.061451  \n",
       "min                      33.545455       0.000000  \n",
       "25%                      40.000000       1.978595  \n",
       "50%                      42.133333       2.438274  \n",
       "75%                      43.333333       3.048881  \n",
       "max                      44.833333       7.745350  "
      ]
     },
     "execution_count": 375,
     "metadata": {},
     "output_type": "execute_result"
    }
   ],
   "source": [
    "totData.describe()"
   ]
  },
  {
   "cell_type": "markdown",
   "metadata": {
    "heading_collapsed": true
   },
   "source": [
    "## Data cleaning"
   ]
  },
  {
   "cell_type": "code",
   "execution_count": 376,
   "metadata": {
    "ExecuteTime": {
     "end_time": "2018-06-15T10:29:08.825254Z",
     "start_time": "2018-06-15T10:29:08.294812Z"
    },
    "hidden": true,
    "scrolled": true
   },
   "outputs": [
    {
     "data": {
      "text/plain": [
       "GCS (kg/cm2)                     False\n",
       "Compactability (%)               False\n",
       "Active Clay (%)                   True\n",
       "Wet Tensile Strength (gm/cm2)    False\n",
       "LOI (%)                           True\n",
       "Moisture (%)                     False\n",
       "Inert Fines (%)                   True\n",
       "Volatile Matter (%)               True\n",
       "Permeability (no)                False\n",
       "GFN/AFS (no)                      True\n",
       "Temp. of Sand after mix.(C)      False\n",
       "Rejection (%)                    False\n",
       "dtype: bool"
      ]
     },
     "execution_count": 376,
     "metadata": {},
     "output_type": "execute_result"
    }
   ],
   "source": [
    "totData.isnull().any()"
   ]
  },
  {
   "cell_type": "code",
   "execution_count": 377,
   "metadata": {
    "ExecuteTime": {
     "end_time": "2018-06-15T10:29:09.047986Z",
     "start_time": "2018-06-15T10:29:08.832335Z"
    },
    "hidden": true,
    "scrolled": true
   },
   "outputs": [
    {
     "data": {
      "text/html": [
       "<div>\n",
       "<style scoped>\n",
       "    .dataframe tbody tr th:only-of-type {\n",
       "        vertical-align: middle;\n",
       "    }\n",
       "\n",
       "    .dataframe tbody tr th {\n",
       "        vertical-align: top;\n",
       "    }\n",
       "\n",
       "    .dataframe thead th {\n",
       "        text-align: right;\n",
       "    }\n",
       "</style>\n",
       "<table border=\"1\" class=\"dataframe\">\n",
       "  <thead>\n",
       "    <tr style=\"text-align: right;\">\n",
       "      <th></th>\n",
       "      <th>GCS (kg/cm2)</th>\n",
       "      <th>Compactability (%)</th>\n",
       "      <th>Active Clay (%)</th>\n",
       "      <th>Wet Tensile Strength (gm/cm2)</th>\n",
       "      <th>LOI (%)</th>\n",
       "      <th>Moisture (%)</th>\n",
       "      <th>Inert Fines (%)</th>\n",
       "      <th>Volatile Matter (%)</th>\n",
       "      <th>Permeability (no)</th>\n",
       "      <th>GFN/AFS (no)</th>\n",
       "      <th>Temp. of Sand after mix.(C)</th>\n",
       "      <th>Rejection (%)</th>\n",
       "    </tr>\n",
       "    <tr>\n",
       "      <th>Date</th>\n",
       "      <th></th>\n",
       "      <th></th>\n",
       "      <th></th>\n",
       "      <th></th>\n",
       "      <th></th>\n",
       "      <th></th>\n",
       "      <th></th>\n",
       "      <th></th>\n",
       "      <th></th>\n",
       "      <th></th>\n",
       "      <th></th>\n",
       "      <th></th>\n",
       "    </tr>\n",
       "  </thead>\n",
       "  <tbody>\n",
       "    <tr>\n",
       "      <th>2019-11-23</th>\n",
       "      <td>1.93</td>\n",
       "      <td>39.0</td>\n",
       "      <td>NaN</td>\n",
       "      <td>14.0</td>\n",
       "      <td>NaN</td>\n",
       "      <td>2.8</td>\n",
       "      <td>NaN</td>\n",
       "      <td>NaN</td>\n",
       "      <td>133.0</td>\n",
       "      <td>NaN</td>\n",
       "      <td>42.0</td>\n",
       "      <td>3.289058</td>\n",
       "    </tr>\n",
       "  </tbody>\n",
       "</table>\n",
       "</div>"
      ],
      "text/plain": [
       "            GCS (kg/cm2)  Compactability (%)  Active Clay (%)  \\\n",
       "Date                                                            \n",
       "2019-11-23          1.93                39.0              NaN   \n",
       "\n",
       "            Wet Tensile Strength (gm/cm2)  LOI (%)  Moisture (%)  \\\n",
       "Date                                                               \n",
       "2019-11-23                           14.0      NaN           2.8   \n",
       "\n",
       "            Inert Fines (%)  Volatile Matter (%)  Permeability (no)  \\\n",
       "Date                                                                  \n",
       "2019-11-23              NaN                  NaN              133.0   \n",
       "\n",
       "            GFN/AFS (no)  Temp. of Sand after mix.(C)  Rejection (%)  \n",
       "Date                                                                  \n",
       "2019-11-23           NaN                         42.0       3.289058  "
      ]
     },
     "execution_count": 377,
     "metadata": {},
     "output_type": "execute_result"
    }
   ],
   "source": [
    "totData[totData.isnull().any(axis=1)]"
   ]
  },
  {
   "cell_type": "markdown",
   "metadata": {
    "hidden": true
   },
   "source": [
    "### 1. Remove rows with Rejection data absent\n",
    "\n",
    "- Himanshu rather shared to treat it as zero, actually we simply don't have data for that day"
   ]
  },
  {
   "cell_type": "markdown",
   "metadata": {
    "hidden": true
   },
   "source": [
    "**Drop the data on 19 October then**"
   ]
  },
  {
   "cell_type": "code",
   "execution_count": 378,
   "metadata": {
    "ExecuteTime": {
     "end_time": "2018-06-15T10:29:09.222463Z",
     "start_time": "2018-06-15T10:29:09.055813Z"
    },
    "hidden": true
   },
   "outputs": [
    {
     "name": "stderr",
     "output_type": "stream",
     "text": [
      "/home/rajkumar/anaconda3/lib/python3.7/site-packages/ipykernel_launcher.py:1: FutureWarning: The pandas.np module is deprecated and will be removed from pandas in a future version. Import numpy directly instead\n",
      "  \"\"\"Entry point for launching an IPython kernel.\n"
     ]
    }
   ],
   "source": [
    "totData = totData[pd.np.isfinite(totData[\"Rejection (%)\"])]"
   ]
  },
  {
   "cell_type": "code",
   "execution_count": 379,
   "metadata": {},
   "outputs": [
    {
     "data": {
      "text/plain": [
       "(197, 12)"
      ]
     },
     "execution_count": 379,
     "metadata": {},
     "output_type": "execute_result"
    }
   ],
   "source": [
    "totData.shape"
   ]
  },
  {
   "cell_type": "code",
   "execution_count": 384,
   "metadata": {},
   "outputs": [
    {
     "name": "stdout",
     "output_type": "stream",
     "text": [
      "<class 'pandas.core.frame.DataFrame'>\n",
      "DatetimeIndex: 197 entries, 2019-04-01 to 2020-01-30\n",
      "Data columns (total 12 columns):\n",
      " #   Column                         Non-Null Count  Dtype  \n",
      "---  ------                         --------------  -----  \n",
      " 0   GCS (kg/cm2)                   197 non-null    float64\n",
      " 1   Compactability (%)             197 non-null    float64\n",
      " 2   Active Clay (%)                196 non-null    float64\n",
      " 3   Wet Tensile Strength (gm/cm2)  197 non-null    float64\n",
      " 4   LOI (%)                        196 non-null    float64\n",
      " 5   Moisture (%)                   197 non-null    float64\n",
      " 6   Inert Fines (%)                196 non-null    float64\n",
      " 7   Volatile Matter (%)            196 non-null    float64\n",
      " 8   Permeability (no)              197 non-null    float64\n",
      " 9   GFN/AFS (no)                   196 non-null    float64\n",
      " 10  Temp. of Sand after mix.(C)    197 non-null    float64\n",
      " 11  Rejection (%)                  197 non-null    float64\n",
      "dtypes: float64(12)\n",
      "memory usage: 20.0 KB\n"
     ]
    }
   ],
   "source": [
    "totData.info()"
   ]
  },
  {
   "cell_type": "code",
   "execution_count": 380,
   "metadata": {
    "ExecuteTime": {
     "end_time": "2018-06-15T10:29:09.402502Z",
     "start_time": "2018-06-15T10:29:09.227449Z"
    },
    "hidden": true
   },
   "outputs": [
    {
     "data": {
      "text/plain": [
       "GCS (kg/cm2)                     False\n",
       "Compactability (%)               False\n",
       "Active Clay (%)                   True\n",
       "Wet Tensile Strength (gm/cm2)    False\n",
       "LOI (%)                           True\n",
       "Moisture (%)                     False\n",
       "Inert Fines (%)                   True\n",
       "Volatile Matter (%)               True\n",
       "Permeability (no)                False\n",
       "GFN/AFS (no)                      True\n",
       "Temp. of Sand after mix.(C)      False\n",
       "Rejection (%)                    False\n",
       "dtype: bool"
      ]
     },
     "execution_count": 380,
     "metadata": {},
     "output_type": "execute_result"
    }
   ],
   "source": [
    "totData.isnull().any()"
   ]
  },
  {
   "cell_type": "markdown",
   "metadata": {
    "hidden": true
   },
   "source": [
    "**All data is fine**"
   ]
  },
  {
   "cell_type": "markdown",
   "metadata": {},
   "source": [
    "## Model building"
   ]
  },
  {
   "cell_type": "code",
   "execution_count": 381,
   "metadata": {
    "ExecuteTime": {
     "end_time": "2018-06-15T10:29:09.586858Z",
     "start_time": "2018-06-15T10:29:09.407640Z"
    }
   },
   "outputs": [],
   "source": [
    "import sys\n",
    "import os\n",
    "basepath = os.path.dirname('__file__')\n",
    "filepath = os.path.abspath(\"..\")\n",
    "datapath = filepath + \"/data\"\n",
    "srcpath = filepath + \"/src\"\n",
    "#print (filepath)\n",
    "if filepath not in sys.path:\n",
    "    sys.path.append(filepath)\n",
    "if srcpath not in sys.path:\n",
    "    sys.path.append(srcpath)"
   ]
  },
  {
   "cell_type": "code",
   "execution_count": 382,
   "metadata": {
    "ExecuteTime": {
     "end_time": "2018-06-15T10:29:09.774595Z",
     "start_time": "2018-06-15T10:29:09.591828Z"
    }
   },
   "outputs": [],
   "source": [
    "from classStruct.model import model"
   ]
  },
  {
   "cell_type": "code",
   "execution_count": 383,
   "metadata": {
    "ExecuteTime": {
     "end_time": "2018-06-15T10:29:10.340191Z",
     "start_time": "2018-06-15T10:29:09.780069Z"
    },
    "scrolled": true
   },
   "outputs": [
    {
     "ename": "LinAlgError",
     "evalue": "SVD did not converge",
     "output_type": "error",
     "traceback": [
      "\u001b[0;31m---------------------------------------------------------------------------\u001b[0m",
      "\u001b[0;31mLinAlgError\u001b[0m                               Traceback (most recent call last)",
      "\u001b[0;32m<ipython-input-383-3fc0c82d7346>\u001b[0m in \u001b[0;36m<module>\u001b[0;34m\u001b[0m\n\u001b[0;32m----> 1\u001b[0;31m \u001b[0mModel1\u001b[0m \u001b[0;34m=\u001b[0m \u001b[0mmodel\u001b[0m\u001b[0;34m(\u001b[0m\u001b[0mtotData\u001b[0m\u001b[0;34m,\u001b[0m\u001b[0mcols\u001b[0m\u001b[0;34m,\u001b[0m\u001b[0;34m[\u001b[0m\u001b[0;34m'Rejection (%)'\u001b[0m\u001b[0;34m]\u001b[0m\u001b[0;34m)\u001b[0m\u001b[0;34m\u001b[0m\u001b[0;34m\u001b[0m\u001b[0m\n\u001b[0m",
      "\u001b[0;32m~/linux-work/Analysis-Understanding/Sandman-Baselined-27-Dec-2019/src/classStruct/model.py\u001b[0m in \u001b[0;36m__init__\u001b[0;34m(self, df, inputFieldsList, outputFieldsList)\u001b[0m\n\u001b[1;32m     46\u001b[0m         \u001b[0mself\u001b[0m\u001b[0;34m.\u001b[0m\u001b[0mcomputeBounds\u001b[0m\u001b[0;34m(\u001b[0m\u001b[0;34m)\u001b[0m\u001b[0;34m\u001b[0m\u001b[0;34m\u001b[0m\u001b[0m\n\u001b[1;32m     47\u001b[0m         \u001b[0mself\u001b[0m\u001b[0;34m.\u001b[0m\u001b[0mdata\u001b[0m \u001b[0;34m=\u001b[0m \u001b[0mself\u001b[0m\u001b[0;34m.\u001b[0m\u001b[0mNormalizeColumns\u001b[0m\u001b[0;34m(\u001b[0m\u001b[0mself\u001b[0m\u001b[0;34m.\u001b[0m\u001b[0minputFieldsList\u001b[0m\u001b[0;34m,\u001b[0m\u001b[0mself\u001b[0m\u001b[0;34m.\u001b[0m\u001b[0mdata\u001b[0m\u001b[0;34m)\u001b[0m\u001b[0;34m\u001b[0m\u001b[0;34m\u001b[0m\u001b[0m\n\u001b[0;32m---> 48\u001b[0;31m         \u001b[0mself\u001b[0m\u001b[0;34m.\u001b[0m\u001b[0mformCluster\u001b[0m\u001b[0;34m(\u001b[0m\u001b[0mself\u001b[0m\u001b[0;34m.\u001b[0m\u001b[0minputFieldsList\u001b[0m\u001b[0;34m)\u001b[0m\u001b[0;34m\u001b[0m\u001b[0;34m\u001b[0m\u001b[0m\n\u001b[0m\u001b[1;32m     49\u001b[0m         \u001b[0mself\u001b[0m\u001b[0;34m.\u001b[0m\u001b[0mbuildWeightedLeastSquaresModel\u001b[0m\u001b[0;34m(\u001b[0m\u001b[0;34m)\u001b[0m\u001b[0;34m\u001b[0m\u001b[0;34m\u001b[0m\u001b[0m\n\u001b[1;32m     50\u001b[0m         \u001b[0mself\u001b[0m\u001b[0;34m.\u001b[0m\u001b[0mgetOptimalCluster\u001b[0m\u001b[0;34m(\u001b[0m\u001b[0;34m)\u001b[0m\u001b[0;34m\u001b[0m\u001b[0;34m\u001b[0m\u001b[0m\n",
      "\u001b[0;32m~/linux-work/Analysis-Understanding/Sandman-Baselined-27-Dec-2019/src/classStruct/model.py\u001b[0m in \u001b[0;36mformCluster\u001b[0;34m(self, columnNameList)\u001b[0m\n\u001b[1;32m    113\u001b[0m         \u001b[0;32mfor\u001b[0m \u001b[0mi\u001b[0m \u001b[0;32min\u001b[0m \u001b[0mrange\u001b[0m\u001b[0;34m(\u001b[0m\u001b[0mnumCluster\u001b[0m\u001b[0;34m)\u001b[0m\u001b[0;34m:\u001b[0m\u001b[0;34m\u001b[0m\u001b[0;34m\u001b[0m\u001b[0m\n\u001b[1;32m    114\u001b[0m             \u001b[0mself\u001b[0m\u001b[0;34m.\u001b[0m\u001b[0mclustersList\u001b[0m\u001b[0;34m.\u001b[0m\u001b[0mappend\u001b[0m\u001b[0;34m(\u001b[0m\u001b[0mcluster\u001b[0m\u001b[0;34m(\u001b[0m\u001b[0mpd\u001b[0m\u001b[0;34m.\u001b[0m\u001b[0mSeries\u001b[0m\u001b[0;34m(\u001b[0m\u001b[0mcluster_centers_new\u001b[0m\u001b[0;34m[\u001b[0m\u001b[0mi\u001b[0m\u001b[0;34m]\u001b[0m\u001b[0;34m,\u001b[0m\u001b[0mindex\u001b[0m \u001b[0;34m=\u001b[0m \u001b[0mself\u001b[0m\u001b[0;34m.\u001b[0m\u001b[0minputFieldsList\u001b[0m\u001b[0;34m)\u001b[0m\u001b[0;34m,\u001b[0m\u001b[0mmembership_matrix\u001b[0m\u001b[0;34m[\u001b[0m\u001b[0mi\u001b[0m\u001b[0;34m]\u001b[0m\u001b[0;34m,\u001b[0m\u001b[0mclusterWiseRowIdList\u001b[0m\u001b[0;34m[\u001b[0m\u001b[0mi\u001b[0m\u001b[0;34m]\u001b[0m\u001b[0;34m)\u001b[0m\u001b[0;34m)\u001b[0m\u001b[0;34m\u001b[0m\u001b[0;34m\u001b[0m\u001b[0m\n\u001b[0;32m--> 115\u001b[0;31m         \u001b[0mself\u001b[0m\u001b[0;34m.\u001b[0m\u001b[0mfindClusterWisePCs\u001b[0m\u001b[0;34m(\u001b[0m\u001b[0;34m)\u001b[0m\u001b[0;34m\u001b[0m\u001b[0;34m\u001b[0m\u001b[0m\n\u001b[0m\u001b[1;32m    116\u001b[0m         \u001b[0mself\u001b[0m\u001b[0;34m.\u001b[0m\u001b[0mcomputeClusterWiseProjectedMeanCovDMax\u001b[0m\u001b[0;34m(\u001b[0m\u001b[0;34m)\u001b[0m\u001b[0;34m\u001b[0m\u001b[0;34m\u001b[0m\u001b[0m\n\u001b[1;32m    117\u001b[0m \u001b[0;34m\u001b[0m\u001b[0m\n",
      "\u001b[0;32m~/linux-work/Analysis-Understanding/Sandman-Baselined-27-Dec-2019/src/classStruct/model.py\u001b[0m in \u001b[0;36mfindClusterWisePCs\u001b[0;34m(self)\u001b[0m\n\u001b[1;32m    145\u001b[0m             \u001b[0mA\u001b[0m \u001b[0;34m=\u001b[0m \u001b[0mA\u001b[0m\u001b[0;34m[\u001b[0m\u001b[0mself\u001b[0m\u001b[0;34m.\u001b[0m\u001b[0minputFieldsList\u001b[0m\u001b[0;34m]\u001b[0m \u001b[0;34m-\u001b[0m \u001b[0mA\u001b[0m\u001b[0;34m[\u001b[0m\u001b[0mself\u001b[0m\u001b[0;34m.\u001b[0m\u001b[0minputFieldsList\u001b[0m\u001b[0;34m]\u001b[0m\u001b[0;34m.\u001b[0m\u001b[0mmean\u001b[0m\u001b[0;34m(\u001b[0m\u001b[0;34m)\u001b[0m\u001b[0;34m\u001b[0m\u001b[0;34m\u001b[0m\u001b[0m\n\u001b[1;32m    146\u001b[0m             \u001b[0mA\u001b[0m \u001b[0;34m=\u001b[0m \u001b[0mA\u001b[0m\u001b[0;34m.\u001b[0m\u001b[0mvalues\u001b[0m\u001b[0;34m\u001b[0m\u001b[0;34m\u001b[0m\u001b[0m\n\u001b[0;32m--> 147\u001b[0;31m             \u001b[0m_\u001b[0m\u001b[0;34m,\u001b[0m\u001b[0ms\u001b[0m\u001b[0;34m,\u001b[0m\u001b[0mvh\u001b[0m \u001b[0;34m=\u001b[0m \u001b[0mnumpy\u001b[0m\u001b[0;34m.\u001b[0m\u001b[0mlinalg\u001b[0m\u001b[0;34m.\u001b[0m\u001b[0msvd\u001b[0m\u001b[0;34m(\u001b[0m\u001b[0mA\u001b[0m\u001b[0;34m)\u001b[0m\u001b[0;34m\u001b[0m\u001b[0;34m\u001b[0m\u001b[0m\n\u001b[0m\u001b[1;32m    148\u001b[0m             \u001b[0meVectors\u001b[0m \u001b[0;34m=\u001b[0m \u001b[0mvh\u001b[0m\u001b[0;34m.\u001b[0m\u001b[0mT\u001b[0m\u001b[0;34m\u001b[0m\u001b[0;34m\u001b[0m\u001b[0m\n\u001b[1;32m    149\u001b[0m             \u001b[0meValues\u001b[0m \u001b[0;34m=\u001b[0m \u001b[0ms\u001b[0m\u001b[0;34m**\u001b[0m\u001b[0;36m2\u001b[0m\u001b[0;34m\u001b[0m\u001b[0;34m\u001b[0m\u001b[0m\n",
      "\u001b[0;32m<__array_function__ internals>\u001b[0m in \u001b[0;36msvd\u001b[0;34m(*args, **kwargs)\u001b[0m\n",
      "\u001b[0;32m~/anaconda3/lib/python3.7/site-packages/numpy/linalg/linalg.py\u001b[0m in \u001b[0;36msvd\u001b[0;34m(a, full_matrices, compute_uv, hermitian)\u001b[0m\n\u001b[1;32m   1624\u001b[0m \u001b[0;34m\u001b[0m\u001b[0m\n\u001b[1;32m   1625\u001b[0m         \u001b[0msignature\u001b[0m \u001b[0;34m=\u001b[0m \u001b[0;34m'D->DdD'\u001b[0m \u001b[0;32mif\u001b[0m \u001b[0misComplexType\u001b[0m\u001b[0;34m(\u001b[0m\u001b[0mt\u001b[0m\u001b[0;34m)\u001b[0m \u001b[0;32melse\u001b[0m \u001b[0;34m'd->ddd'\u001b[0m\u001b[0;34m\u001b[0m\u001b[0;34m\u001b[0m\u001b[0m\n\u001b[0;32m-> 1626\u001b[0;31m         \u001b[0mu\u001b[0m\u001b[0;34m,\u001b[0m \u001b[0ms\u001b[0m\u001b[0;34m,\u001b[0m \u001b[0mvh\u001b[0m \u001b[0;34m=\u001b[0m \u001b[0mgufunc\u001b[0m\u001b[0;34m(\u001b[0m\u001b[0ma\u001b[0m\u001b[0;34m,\u001b[0m \u001b[0msignature\u001b[0m\u001b[0;34m=\u001b[0m\u001b[0msignature\u001b[0m\u001b[0;34m,\u001b[0m \u001b[0mextobj\u001b[0m\u001b[0;34m=\u001b[0m\u001b[0mextobj\u001b[0m\u001b[0;34m)\u001b[0m\u001b[0;34m\u001b[0m\u001b[0;34m\u001b[0m\u001b[0m\n\u001b[0m\u001b[1;32m   1627\u001b[0m         \u001b[0mu\u001b[0m \u001b[0;34m=\u001b[0m \u001b[0mu\u001b[0m\u001b[0;34m.\u001b[0m\u001b[0mastype\u001b[0m\u001b[0;34m(\u001b[0m\u001b[0mresult_t\u001b[0m\u001b[0;34m,\u001b[0m \u001b[0mcopy\u001b[0m\u001b[0;34m=\u001b[0m\u001b[0;32mFalse\u001b[0m\u001b[0;34m)\u001b[0m\u001b[0;34m\u001b[0m\u001b[0;34m\u001b[0m\u001b[0m\n\u001b[1;32m   1628\u001b[0m         \u001b[0ms\u001b[0m \u001b[0;34m=\u001b[0m \u001b[0ms\u001b[0m\u001b[0;34m.\u001b[0m\u001b[0mastype\u001b[0m\u001b[0;34m(\u001b[0m\u001b[0m_realType\u001b[0m\u001b[0;34m(\u001b[0m\u001b[0mresult_t\u001b[0m\u001b[0;34m)\u001b[0m\u001b[0;34m,\u001b[0m \u001b[0mcopy\u001b[0m\u001b[0;34m=\u001b[0m\u001b[0;32mFalse\u001b[0m\u001b[0;34m)\u001b[0m\u001b[0;34m\u001b[0m\u001b[0;34m\u001b[0m\u001b[0m\n",
      "\u001b[0;32m~/anaconda3/lib/python3.7/site-packages/numpy/linalg/linalg.py\u001b[0m in \u001b[0;36m_raise_linalgerror_svd_nonconvergence\u001b[0;34m(err, flag)\u001b[0m\n\u001b[1;32m    104\u001b[0m \u001b[0;34m\u001b[0m\u001b[0m\n\u001b[1;32m    105\u001b[0m \u001b[0;32mdef\u001b[0m \u001b[0m_raise_linalgerror_svd_nonconvergence\u001b[0m\u001b[0;34m(\u001b[0m\u001b[0merr\u001b[0m\u001b[0;34m,\u001b[0m \u001b[0mflag\u001b[0m\u001b[0;34m)\u001b[0m\u001b[0;34m:\u001b[0m\u001b[0;34m\u001b[0m\u001b[0;34m\u001b[0m\u001b[0m\n\u001b[0;32m--> 106\u001b[0;31m     \u001b[0;32mraise\u001b[0m \u001b[0mLinAlgError\u001b[0m\u001b[0;34m(\u001b[0m\u001b[0;34m\"SVD did not converge\"\u001b[0m\u001b[0;34m)\u001b[0m\u001b[0;34m\u001b[0m\u001b[0;34m\u001b[0m\u001b[0m\n\u001b[0m\u001b[1;32m    107\u001b[0m \u001b[0;34m\u001b[0m\u001b[0m\n\u001b[1;32m    108\u001b[0m \u001b[0;32mdef\u001b[0m \u001b[0m_raise_linalgerror_lstsq\u001b[0m\u001b[0;34m(\u001b[0m\u001b[0merr\u001b[0m\u001b[0;34m,\u001b[0m \u001b[0mflag\u001b[0m\u001b[0;34m)\u001b[0m\u001b[0;34m:\u001b[0m\u001b[0;34m\u001b[0m\u001b[0;34m\u001b[0m\u001b[0m\n",
      "\u001b[0;31mLinAlgError\u001b[0m: SVD did not converge"
     ]
    }
   ],
   "source": [
    "Model1 = model(totData,cols,['Rejection (%)'])"
   ]
  },
  {
   "cell_type": "code",
   "execution_count": 297,
   "metadata": {
    "ExecuteTime": {
     "end_time": "2018-06-15T10:29:10.360575Z",
     "start_time": "2018-06-15T10:29:10.341812Z"
    }
   },
   "outputs": [
    {
     "data": {
      "text/plain": [
       "Predicted Rejection (%)    3.270925\n",
       "dtype: float64"
      ]
     },
     "execution_count": 297,
     "metadata": {},
     "output_type": "execute_result"
    }
   ],
   "source": [
    "Model1.optimalClusterRejectionSeries"
   ]
  },
  {
   "cell_type": "code",
   "execution_count": 298,
   "metadata": {
    "ExecuteTime": {
     "end_time": "2018-06-15T10:29:10.593574Z",
     "start_time": "2018-06-15T10:29:10.362664Z"
    }
   },
   "outputs": [
    {
     "data": {
      "text/html": [
       "<div>\n",
       "<style scoped>\n",
       "    .dataframe tbody tr th:only-of-type {\n",
       "        vertical-align: middle;\n",
       "    }\n",
       "\n",
       "    .dataframe tbody tr th {\n",
       "        vertical-align: top;\n",
       "    }\n",
       "\n",
       "    .dataframe thead th {\n",
       "        text-align: right;\n",
       "    }\n",
       "</style>\n",
       "<table border=\"1\" class=\"dataframe\">\n",
       "  <thead>\n",
       "    <tr style=\"text-align: right;\">\n",
       "      <th></th>\n",
       "      <th>GCS (gm/cm2)</th>\n",
       "      <th>Compactability (%)</th>\n",
       "      <th>Active Clay (%)</th>\n",
       "      <th>Wet Tensile Strength (gm/cm2)</th>\n",
       "      <th>LOI (%)</th>\n",
       "      <th>Moisture (%)</th>\n",
       "      <th>Inert Fines (%)</th>\n",
       "      <th>Permeability (no)</th>\n",
       "      <th>Shear Strength (gm/cm2)</th>\n",
       "    </tr>\n",
       "  </thead>\n",
       "  <tbody>\n",
       "    <tr>\n",
       "      <th>0</th>\n",
       "      <td>0.692497</td>\n",
       "      <td>0.518503</td>\n",
       "      <td>0.359457</td>\n",
       "      <td>0.485919</td>\n",
       "      <td>0.389789</td>\n",
       "      <td>0.361808</td>\n",
       "      <td>0.533770</td>\n",
       "      <td>0.435623</td>\n",
       "      <td>0.454340</td>\n",
       "    </tr>\n",
       "    <tr>\n",
       "      <th>1</th>\n",
       "      <td>0.627868</td>\n",
       "      <td>0.602155</td>\n",
       "      <td>0.395674</td>\n",
       "      <td>0.669577</td>\n",
       "      <td>0.371629</td>\n",
       "      <td>0.488454</td>\n",
       "      <td>0.317488</td>\n",
       "      <td>0.710396</td>\n",
       "      <td>0.445841</td>\n",
       "    </tr>\n",
       "  </tbody>\n",
       "</table>\n",
       "</div>"
      ],
      "text/plain": [
       "   GCS (gm/cm2)  Compactability (%)  Active Clay (%)  \\\n",
       "0      0.692497            0.518503         0.359457   \n",
       "1      0.627868            0.602155         0.395674   \n",
       "\n",
       "   Wet Tensile Strength (gm/cm2)   LOI (%)  Moisture (%)  Inert Fines (%)  \\\n",
       "0                       0.485919  0.389789      0.361808         0.533770   \n",
       "1                       0.669577  0.371629      0.488454         0.317488   \n",
       "\n",
       "   Permeability (no)  Shear Strength (gm/cm2)  \n",
       "0           0.435623                 0.454340  \n",
       "1           0.710396                 0.445841  "
      ]
     },
     "execution_count": 298,
     "metadata": {},
     "output_type": "execute_result"
    }
   ],
   "source": [
    "clustSet = pd.DataFrame([C.clusterCenter for C in Model1.clustersList])\n",
    "clustSet"
   ]
  },
  {
   "cell_type": "code",
   "execution_count": 299,
   "metadata": {},
   "outputs": [
    {
     "data": {
      "text/plain": [
       "array(['GCS (gm/cm2)', 'Compactability (%)', 'Active Clay (%)',\n",
       "       'Wet Tensile Strength (gm/cm2)', 'LOI (%)', 'Moisture (%)',\n",
       "       'Inert Fines (%)', 'Permeability (no)', 'Shear Strength (gm/cm2)'],\n",
       "      dtype=object)"
      ]
     },
     "execution_count": 299,
     "metadata": {},
     "output_type": "execute_result"
    }
   ],
   "source": [
    "clustSet.columns.values"
   ]
  },
  {
   "cell_type": "code",
   "execution_count": 300,
   "metadata": {},
   "outputs": [
    {
     "name": "stdout",
     "output_type": "stream",
     "text": [
      "['GCS (gm/cm2)', 'Compactability (%)', 'Active Clay (%)', 'Wet Tensile Strength (gm/cm2)', 'LOI (%)', 'Moisture (%)', 'Inert Fines (%)', 'Permeability (no)', 'Shear Strength (gm/cm2)']\n"
     ]
    }
   ],
   "source": [
    "# col_list = ['GCS (gm/cm2)', 'Compactability (%)', 'Active Clay (%)',\n",
    "#        'Wet Tensile Strength (gm/cm2)', 'LOI (%)', 'Moisture (%)',\n",
    "#        'Inert Fines (%)', 'Permeability (no)', 'Shatter Index No. (No)']\n",
    "\n",
    "# brakes validation\n",
    "col_list = ['GCS (gm/cm2)', 'Compactability (%)', 'Active Clay (%)',\n",
    "       'Wet Tensile Strength (gm/cm2)', 'LOI (%)', 'Moisture (%)',\n",
    "       'Inert Fines (%)', 'Permeability (no)', 'Shear Strength (gm/cm2)']\n",
    "\n",
    "# munjal validation\n",
    "# col_list = ['GCS (gm/cm2)',\n",
    "#         'Compactability (%)', 'Active Clay (%)',\n",
    "#         'Wet Tensile Strength (gm/cm2)', 'LOI (%)', 'Moisture (%)',\n",
    "#         'Inert Fines (%)',\n",
    "#         'Permeability (no)', 'Shear Strength (gm/cm2)',\n",
    "#         ]\n",
    "\n",
    "# Nelcast ponneri HPML validation\n",
    "# col_list = ['GCS (gm/cm2)',\n",
    "#         'Compactability (%)', 'Active Clay (%)',\n",
    "#         'Wet Tensile Strength (gm/cm2)', 'LOI (%)', 'Moisture (%)',\n",
    "#         'Inert Fines (%)',\n",
    "#         'Permeability (no)', 'Shear Strength (gm/cm2)',\n",
    "#         ]\n",
    "\n",
    "print(col_list)"
   ]
  },
  {
   "cell_type": "code",
   "execution_count": 301,
   "metadata": {},
   "outputs": [
    {
     "data": {
      "text/html": [
       "<div>\n",
       "<style scoped>\n",
       "    .dataframe tbody tr th:only-of-type {\n",
       "        vertical-align: middle;\n",
       "    }\n",
       "\n",
       "    .dataframe tbody tr th {\n",
       "        vertical-align: top;\n",
       "    }\n",
       "\n",
       "    .dataframe thead th {\n",
       "        text-align: right;\n",
       "    }\n",
       "</style>\n",
       "<table border=\"1\" class=\"dataframe\">\n",
       "  <thead>\n",
       "    <tr style=\"text-align: right;\">\n",
       "      <th></th>\n",
       "      <th>GCS (gm/cm2)</th>\n",
       "      <th>Compactability (%)</th>\n",
       "      <th>Active Clay (%)</th>\n",
       "      <th>Wet Tensile Strength (gm/cm2)</th>\n",
       "      <th>LOI (%)</th>\n",
       "      <th>Moisture (%)</th>\n",
       "      <th>Inert Fines (%)</th>\n",
       "      <th>Permeability (no)</th>\n",
       "      <th>Shear Strength (gm/cm2)</th>\n",
       "    </tr>\n",
       "  </thead>\n",
       "  <tbody>\n",
       "    <tr>\n",
       "      <th>0</th>\n",
       "      <td>2648.265299</td>\n",
       "      <td>39.476805</td>\n",
       "      <td>10.219852</td>\n",
       "      <td>26.969895</td>\n",
       "      <td>4.390100</td>\n",
       "      <td>3.277082</td>\n",
       "      <td>3.311888</td>\n",
       "      <td>106.825341</td>\n",
       "      <td>562.089620</td>\n",
       "    </tr>\n",
       "    <tr>\n",
       "      <th>1</th>\n",
       "      <td>2633.930273</td>\n",
       "      <td>40.102269</td>\n",
       "      <td>10.227646</td>\n",
       "      <td>27.645144</td>\n",
       "      <td>4.384349</td>\n",
       "      <td>3.312814</td>\n",
       "      <td>3.257097</td>\n",
       "      <td>112.265843</td>\n",
       "      <td>561.567331</td>\n",
       "    </tr>\n",
       "  </tbody>\n",
       "</table>\n",
       "</div>"
      ],
      "text/plain": [
       "   GCS (gm/cm2)  Compactability (%)  Active Clay (%)  \\\n",
       "0   2648.265299           39.476805        10.219852   \n",
       "1   2633.930273           40.102269        10.227646   \n",
       "\n",
       "   Wet Tensile Strength (gm/cm2)   LOI (%)  Moisture (%)  Inert Fines (%)  \\\n",
       "0                      26.969895  4.390100      3.277082         3.311888   \n",
       "1                      27.645144  4.384349      3.312814         3.257097   \n",
       "\n",
       "   Permeability (no)  Shear Strength (gm/cm2)  \n",
       "0         106.825341               562.089620  \n",
       "1         112.265843               561.567331  "
      ]
     },
     "execution_count": 301,
     "metadata": {},
     "output_type": "execute_result"
    }
   ],
   "source": [
    "Model1.deNormalizeColumns(col_list, clustSet)"
   ]
  },
  {
   "cell_type": "code",
   "execution_count": 302,
   "metadata": {
    "ExecuteTime": {
     "end_time": "2018-06-15T10:29:10.859801Z",
     "start_time": "2018-06-15T10:29:10.596313Z"
    }
   },
   "outputs": [
    {
     "name": "stdout",
     "output_type": "stream",
     "text": [
      "73\n",
      "61\n"
     ]
    }
   ],
   "source": [
    "for C in Model1.clustersList:\n",
    "    print(len(C.rowIdList))"
   ]
  },
  {
   "cell_type": "code",
   "execution_count": 303,
   "metadata": {
    "ExecuteTime": {
     "end_time": "2018-06-15T10:29:11.142532Z",
     "start_time": "2018-06-15T10:29:10.865761Z"
    }
   },
   "outputs": [],
   "source": [
    "Model1.predictor(clustSet, [\"Rejection (%)\"], Normalize=False)"
   ]
  },
  {
   "cell_type": "code",
   "execution_count": 304,
   "metadata": {
    "ExecuteTime": {
     "end_time": "2018-06-15T10:29:11.390618Z",
     "start_time": "2018-06-15T10:29:11.148604Z"
    }
   },
   "outputs": [
    {
     "data": {
      "text/html": [
       "<div>\n",
       "<style scoped>\n",
       "    .dataframe tbody tr th:only-of-type {\n",
       "        vertical-align: middle;\n",
       "    }\n",
       "\n",
       "    .dataframe tbody tr th {\n",
       "        vertical-align: top;\n",
       "    }\n",
       "\n",
       "    .dataframe thead th {\n",
       "        text-align: right;\n",
       "    }\n",
       "</style>\n",
       "<table border=\"1\" class=\"dataframe\">\n",
       "  <thead>\n",
       "    <tr style=\"text-align: right;\">\n",
       "      <th></th>\n",
       "      <th>GCS (gm/cm2)</th>\n",
       "      <th>Compactability (%)</th>\n",
       "      <th>Active Clay (%)</th>\n",
       "      <th>Wet Tensile Strength (gm/cm2)</th>\n",
       "      <th>LOI (%)</th>\n",
       "      <th>Moisture (%)</th>\n",
       "      <th>Inert Fines (%)</th>\n",
       "      <th>Permeability (no)</th>\n",
       "      <th>Shear Strength (gm/cm2)</th>\n",
       "      <th>Predicted Rejection (%)</th>\n",
       "      <th>predictionConfidence</th>\n",
       "    </tr>\n",
       "  </thead>\n",
       "  <tbody>\n",
       "    <tr>\n",
       "      <th>0</th>\n",
       "      <td>2648.265299</td>\n",
       "      <td>39.476805</td>\n",
       "      <td>10.219852</td>\n",
       "      <td>26.969895</td>\n",
       "      <td>4.390100</td>\n",
       "      <td>3.277082</td>\n",
       "      <td>3.311888</td>\n",
       "      <td>106.825341</td>\n",
       "      <td>562.089620</td>\n",
       "      <td>3.295449</td>\n",
       "      <td>100.0</td>\n",
       "    </tr>\n",
       "    <tr>\n",
       "      <th>1</th>\n",
       "      <td>2633.930273</td>\n",
       "      <td>40.102269</td>\n",
       "      <td>10.227646</td>\n",
       "      <td>27.645144</td>\n",
       "      <td>4.384349</td>\n",
       "      <td>3.312814</td>\n",
       "      <td>3.257097</td>\n",
       "      <td>112.265843</td>\n",
       "      <td>561.567331</td>\n",
       "      <td>3.270925</td>\n",
       "      <td>100.0</td>\n",
       "    </tr>\n",
       "  </tbody>\n",
       "</table>\n",
       "</div>"
      ],
      "text/plain": [
       "   GCS (gm/cm2)  Compactability (%)  Active Clay (%)  \\\n",
       "0   2648.265299           39.476805        10.219852   \n",
       "1   2633.930273           40.102269        10.227646   \n",
       "\n",
       "   Wet Tensile Strength (gm/cm2)   LOI (%)  Moisture (%)  Inert Fines (%)  \\\n",
       "0                      26.969895  4.390100      3.277082         3.311888   \n",
       "1                      27.645144  4.384349      3.312814         3.257097   \n",
       "\n",
       "   Permeability (no)  Shear Strength (gm/cm2)  Predicted Rejection (%)  \\\n",
       "0         106.825341               562.089620                 3.295449   \n",
       "1         112.265843               561.567331                 3.270925   \n",
       "\n",
       "   predictionConfidence  \n",
       "0                 100.0  \n",
       "1                 100.0  "
      ]
     },
     "execution_count": 304,
     "metadata": {},
     "output_type": "execute_result"
    }
   ],
   "source": [
    "Model1.deNormalizeColumns(col_list, clustSet).to_csv(\"Predicted_optimal.csv\")\n",
    "Model1.deNormalizeColumns(col_list, clustSet)"
   ]
  },
  {
   "cell_type": "code",
   "execution_count": 305,
   "metadata": {
    "ExecuteTime": {
     "end_time": "2018-06-15T10:29:11.957721Z",
     "start_time": "2018-06-15T10:29:11.393528Z"
    }
   },
   "outputs": [
    {
     "data": {
      "text/plain": [
       "Permeability (no)               -0.166876\n",
       "GCS (gm/cm2)                    -0.083704\n",
       "Moisture (%)                    -0.065291\n",
       "LOI (%)                         -0.061617\n",
       "Volatile Matter (%)             -0.049068\n",
       "Inert Fines (%)                 -0.032386\n",
       "GFN/AFS (no)                    -0.001599\n",
       "Shear Strength (gm/cm2)          0.011389\n",
       "Active Clay (%)                  0.014865\n",
       "pH Value (no)                    0.040148\n",
       "Wet Tensile Strength (gm/cm2)    0.041391\n",
       "Compactability (no)              0.131178\n",
       "dtype: float64"
      ]
     },
     "execution_count": 305,
     "metadata": {},
     "output_type": "execute_result"
    }
   ],
   "source": [
    "oldHighInf = pd.Series({\"Permeability (no)\":-0.166876,\n",
    "\"GCS (gm/cm2)\":-0.083704,\n",
    "\"Moisture (%)\":-0.065291,\n",
    "\"LOI (%)\":-0.061617,\n",
    "\"Volatile Matter (%)\":-0.049068,\n",
    "\"Inert Fines (%)\":-0.032386,\n",
    "\"GFN/AFS (no)\":-0.001599,\n",
    "\"Shear Strength (gm/cm2)\":0.011389,\n",
    "\"Active Clay (%)\":0.014865,\n",
    "\"pH Value (no)\":0.040148,\n",
    "\"Wet Tensile Strength (gm/cm2)\":0.041391,\n",
    "\"Compactability (no)\": 0.131178})\n",
    "oldHighInf.sort_values()"
   ]
  },
  {
   "cell_type": "code",
   "execution_count": 306,
   "metadata": {
    "ExecuteTime": {
     "end_time": "2018-06-15T10:29:12.186879Z",
     "start_time": "2018-06-15T10:29:11.964856Z"
    }
   },
   "outputs": [
    {
     "data": {
      "text/plain": [
       "Permeability (no)                 108.737072\n",
       "GCS (gm/cm2)                     2590.288312\n",
       "Active Clay (%)                    10.227920\n",
       "Wet Tensile Strength (gm/cm2)      26.269555\n",
       "Shear Strength (gm/cm2)           548.762601\n",
       "LOI (%)                             4.288893\n",
       "Compactability (%)                 36.112027\n",
       "Inert Fines (%)                     3.193291\n",
       "Moisture (%)                        3.183665\n",
       "dtype: float64"
      ]
     },
     "execution_count": 306,
     "metadata": {},
     "output_type": "execute_result"
    }
   ],
   "source": [
    "newHighInf = Model1.computeHighlyFluencingInputs(totData.iloc[-1],\"Rejection (%)\")\n",
    "newHighInf.to_csv(\"New_High_Influnce_params.csv\", header=False)\n",
    "Model1.deNormalizeColumns(col_list, newHighInf)"
   ]
  },
  {
   "cell_type": "code",
   "execution_count": 207,
   "metadata": {
    "ExecuteTime": {
     "end_time": "2018-06-15T10:29:12.449981Z",
     "start_time": "2018-06-15T10:29:12.193287Z"
    }
   },
   "outputs": [
    {
     "data": {
      "text/html": [
       "<div>\n",
       "<style scoped>\n",
       "    .dataframe tbody tr th:only-of-type {\n",
       "        vertical-align: middle;\n",
       "    }\n",
       "\n",
       "    .dataframe tbody tr th {\n",
       "        vertical-align: top;\n",
       "    }\n",
       "\n",
       "    .dataframe thead th {\n",
       "        text-align: right;\n",
       "    }\n",
       "</style>\n",
       "<table border=\"1\" class=\"dataframe\">\n",
       "  <thead>\n",
       "    <tr style=\"text-align: right;\">\n",
       "      <th></th>\n",
       "      <th>GCS (gm/cm2)</th>\n",
       "      <th>Shear Strength (gm/cm2)</th>\n",
       "    </tr>\n",
       "  </thead>\n",
       "  <tbody>\n",
       "    <tr>\n",
       "      <th>1</th>\n",
       "      <td>-146.641525</td>\n",
       "      <td>-43.308864</td>\n",
       "    </tr>\n",
       "  </tbody>\n",
       "</table>\n",
       "</div>"
      ],
      "text/plain": [
       "   GCS (gm/cm2)  Shear Strength (gm/cm2)\n",
       "1   -146.641525               -43.308864"
      ]
     },
     "execution_count": 207,
     "metadata": {},
     "output_type": "execute_result"
    }
   ],
   "source": [
    "Model1.highInfChange(totData.iloc[-1],\"Rejection (%)\")"
   ]
  },
  {
   "cell_type": "code",
   "execution_count": 97,
   "metadata": {
    "ExecuteTime": {
     "end_time": "2018-06-15T10:29:12.668336Z",
     "start_time": "2018-06-15T10:29:12.453454Z"
    }
   },
   "outputs": [],
   "source": [
    "totDataCp = cp.deepcopy(totData)"
   ]
  },
  {
   "cell_type": "code",
   "execution_count": 98,
   "metadata": {},
   "outputs": [
    {
     "data": {
      "text/html": [
       "<div>\n",
       "<style scoped>\n",
       "    .dataframe tbody tr th:only-of-type {\n",
       "        vertical-align: middle;\n",
       "    }\n",
       "\n",
       "    .dataframe tbody tr th {\n",
       "        vertical-align: top;\n",
       "    }\n",
       "\n",
       "    .dataframe thead th {\n",
       "        text-align: right;\n",
       "    }\n",
       "</style>\n",
       "<table border=\"1\" class=\"dataframe\">\n",
       "  <thead>\n",
       "    <tr style=\"text-align: right;\">\n",
       "      <th></th>\n",
       "      <th>GCS (gm/cm2)</th>\n",
       "      <th>Compactability (%)</th>\n",
       "      <th>Active Clay (%)</th>\n",
       "      <th>Wet Tensile Strength (gm/cm2)</th>\n",
       "      <th>LOI (%)</th>\n",
       "      <th>Moisture (%)</th>\n",
       "      <th>Inert Fines (%)</th>\n",
       "      <th>Permeability (no)</th>\n",
       "      <th>Shear Strength (gm/cm2)</th>\n",
       "      <th>Rejection (%)</th>\n",
       "    </tr>\n",
       "    <tr>\n",
       "      <th>Date</th>\n",
       "      <th></th>\n",
       "      <th></th>\n",
       "      <th></th>\n",
       "      <th></th>\n",
       "      <th></th>\n",
       "      <th></th>\n",
       "      <th></th>\n",
       "      <th></th>\n",
       "      <th></th>\n",
       "      <th></th>\n",
       "    </tr>\n",
       "  </thead>\n",
       "  <tbody>\n",
       "    <tr>\n",
       "      <th>2019-12-25</th>\n",
       "      <td>2665.000000</td>\n",
       "      <td>39.714286</td>\n",
       "      <td>10.220714</td>\n",
       "      <td>26.485714</td>\n",
       "      <td>4.366667</td>\n",
       "      <td>3.282857</td>\n",
       "      <td>3.293333</td>\n",
       "      <td>99.428571</td>\n",
       "      <td>565.000000</td>\n",
       "      <td>5.585307</td>\n",
       "    </tr>\n",
       "    <tr>\n",
       "      <th>2019-12-26</th>\n",
       "      <td>2661.666667</td>\n",
       "      <td>39.666667</td>\n",
       "      <td>10.236667</td>\n",
       "      <td>26.400000</td>\n",
       "      <td>4.395000</td>\n",
       "      <td>3.310833</td>\n",
       "      <td>3.293333</td>\n",
       "      <td>103.666667</td>\n",
       "      <td>560.000000</td>\n",
       "      <td>4.421813</td>\n",
       "    </tr>\n",
       "    <tr>\n",
       "      <th>2019-12-27</th>\n",
       "      <td>2673.333333</td>\n",
       "      <td>39.066667</td>\n",
       "      <td>10.224000</td>\n",
       "      <td>26.486667</td>\n",
       "      <td>4.390000</td>\n",
       "      <td>3.274667</td>\n",
       "      <td>3.356667</td>\n",
       "      <td>98.200000</td>\n",
       "      <td>564.666667</td>\n",
       "      <td>5.063291</td>\n",
       "    </tr>\n",
       "    <tr>\n",
       "      <th>2019-12-30</th>\n",
       "      <td>2688.571429</td>\n",
       "      <td>40.000000</td>\n",
       "      <td>10.260000</td>\n",
       "      <td>26.600000</td>\n",
       "      <td>4.401667</td>\n",
       "      <td>3.276429</td>\n",
       "      <td>3.270000</td>\n",
       "      <td>100.714286</td>\n",
       "      <td>584.285714</td>\n",
       "      <td>4.584903</td>\n",
       "    </tr>\n",
       "    <tr>\n",
       "      <th>2019-12-31</th>\n",
       "      <td>2689.285714</td>\n",
       "      <td>39.500000</td>\n",
       "      <td>10.264286</td>\n",
       "      <td>26.750000</td>\n",
       "      <td>4.413333</td>\n",
       "      <td>3.270000</td>\n",
       "      <td>3.280000</td>\n",
       "      <td>102.214286</td>\n",
       "      <td>588.571429</td>\n",
       "      <td>2.316393</td>\n",
       "    </tr>\n",
       "  </tbody>\n",
       "</table>\n",
       "</div>"
      ],
      "text/plain": [
       "            GCS (gm/cm2)  Compactability (%)  Active Clay (%)  \\\n",
       "Date                                                            \n",
       "2019-12-25   2665.000000           39.714286        10.220714   \n",
       "2019-12-26   2661.666667           39.666667        10.236667   \n",
       "2019-12-27   2673.333333           39.066667        10.224000   \n",
       "2019-12-30   2688.571429           40.000000        10.260000   \n",
       "2019-12-31   2689.285714           39.500000        10.264286   \n",
       "\n",
       "            Wet Tensile Strength (gm/cm2)   LOI (%)  Moisture (%)  \\\n",
       "Date                                                                \n",
       "2019-12-25                      26.485714  4.366667      3.282857   \n",
       "2019-12-26                      26.400000  4.395000      3.310833   \n",
       "2019-12-27                      26.486667  4.390000      3.274667   \n",
       "2019-12-30                      26.600000  4.401667      3.276429   \n",
       "2019-12-31                      26.750000  4.413333      3.270000   \n",
       "\n",
       "            Inert Fines (%)  Permeability (no)  Shear Strength (gm/cm2)  \\\n",
       "Date                                                                      \n",
       "2019-12-25         3.293333          99.428571               565.000000   \n",
       "2019-12-26         3.293333         103.666667               560.000000   \n",
       "2019-12-27         3.356667          98.200000               564.666667   \n",
       "2019-12-30         3.270000         100.714286               584.285714   \n",
       "2019-12-31         3.280000         102.214286               588.571429   \n",
       "\n",
       "            Rejection (%)  \n",
       "Date                       \n",
       "2019-12-25       5.585307  \n",
       "2019-12-26       4.421813  \n",
       "2019-12-27       5.063291  \n",
       "2019-12-30       4.584903  \n",
       "2019-12-31       2.316393  "
      ]
     },
     "execution_count": 98,
     "metadata": {},
     "output_type": "execute_result"
    }
   ],
   "source": [
    "totData.tail()"
   ]
  },
  {
   "cell_type": "code",
   "execution_count": 99,
   "metadata": {
    "ExecuteTime": {
     "end_time": "2018-06-15T10:29:12.864261Z",
     "start_time": "2018-06-15T10:29:12.674003Z"
    }
   },
   "outputs": [],
   "source": [
    "Model1.predictor(totDataCp, [\"Rejection (%)\"], Normalize=True)"
   ]
  },
  {
   "cell_type": "code",
   "execution_count": null,
   "metadata": {},
   "outputs": [],
   "source": []
  },
  {
   "cell_type": "code",
   "execution_count": null,
   "metadata": {},
   "outputs": [],
   "source": []
  },
  {
   "cell_type": "code",
   "execution_count": 100,
   "metadata": {
    "ExecuteTime": {
     "end_time": "2018-06-15T10:29:13.064149Z",
     "start_time": "2018-06-15T10:29:12.865919Z"
    }
   },
   "outputs": [
    {
     "data": {
      "text/html": [
       "<div>\n",
       "<style scoped>\n",
       "    .dataframe tbody tr th:only-of-type {\n",
       "        vertical-align: middle;\n",
       "    }\n",
       "\n",
       "    .dataframe tbody tr th {\n",
       "        vertical-align: top;\n",
       "    }\n",
       "\n",
       "    .dataframe thead th {\n",
       "        text-align: right;\n",
       "    }\n",
       "</style>\n",
       "<table border=\"1\" class=\"dataframe\">\n",
       "  <thead>\n",
       "    <tr style=\"text-align: right;\">\n",
       "      <th></th>\n",
       "      <th>GCS (gm/cm2)</th>\n",
       "      <th>Compactability (%)</th>\n",
       "      <th>Active Clay (%)</th>\n",
       "      <th>Wet Tensile Strength (gm/cm2)</th>\n",
       "      <th>LOI (%)</th>\n",
       "      <th>Moisture (%)</th>\n",
       "      <th>Inert Fines (%)</th>\n",
       "      <th>Permeability (no)</th>\n",
       "      <th>Shear Strength (gm/cm2)</th>\n",
       "      <th>Rejection (%)</th>\n",
       "      <th>Predicted Rejection (%)</th>\n",
       "      <th>predictionConfidence</th>\n",
       "    </tr>\n",
       "    <tr>\n",
       "      <th>Date</th>\n",
       "      <th></th>\n",
       "      <th></th>\n",
       "      <th></th>\n",
       "      <th></th>\n",
       "      <th></th>\n",
       "      <th></th>\n",
       "      <th></th>\n",
       "      <th></th>\n",
       "      <th></th>\n",
       "      <th></th>\n",
       "      <th></th>\n",
       "      <th></th>\n",
       "    </tr>\n",
       "  </thead>\n",
       "  <tbody>\n",
       "    <tr>\n",
       "      <th>2019-12-25</th>\n",
       "      <td>2665.000000</td>\n",
       "      <td>39.714286</td>\n",
       "      <td>10.220714</td>\n",
       "      <td>26.485714</td>\n",
       "      <td>4.366667</td>\n",
       "      <td>3.282857</td>\n",
       "      <td>3.293333</td>\n",
       "      <td>99.428571</td>\n",
       "      <td>565.000000</td>\n",
       "      <td>5.585307</td>\n",
       "      <td>3.872087</td>\n",
       "      <td>58.458838</td>\n",
       "    </tr>\n",
       "    <tr>\n",
       "      <th>2019-12-26</th>\n",
       "      <td>2661.666667</td>\n",
       "      <td>39.666667</td>\n",
       "      <td>10.236667</td>\n",
       "      <td>26.400000</td>\n",
       "      <td>4.395000</td>\n",
       "      <td>3.310833</td>\n",
       "      <td>3.293333</td>\n",
       "      <td>103.666667</td>\n",
       "      <td>560.000000</td>\n",
       "      <td>4.421813</td>\n",
       "      <td>3.452921</td>\n",
       "      <td>72.856094</td>\n",
       "    </tr>\n",
       "    <tr>\n",
       "      <th>2019-12-27</th>\n",
       "      <td>2673.333333</td>\n",
       "      <td>39.066667</td>\n",
       "      <td>10.224000</td>\n",
       "      <td>26.486667</td>\n",
       "      <td>4.390000</td>\n",
       "      <td>3.274667</td>\n",
       "      <td>3.356667</td>\n",
       "      <td>98.200000</td>\n",
       "      <td>564.666667</td>\n",
       "      <td>5.063291</td>\n",
       "      <td>3.697238</td>\n",
       "      <td>38.622286</td>\n",
       "    </tr>\n",
       "    <tr>\n",
       "      <th>2019-12-30</th>\n",
       "      <td>2688.571429</td>\n",
       "      <td>40.000000</td>\n",
       "      <td>10.260000</td>\n",
       "      <td>26.600000</td>\n",
       "      <td>4.401667</td>\n",
       "      <td>3.276429</td>\n",
       "      <td>3.270000</td>\n",
       "      <td>100.714286</td>\n",
       "      <td>584.285714</td>\n",
       "      <td>4.584903</td>\n",
       "      <td>3.433590</td>\n",
       "      <td>47.205547</td>\n",
       "    </tr>\n",
       "    <tr>\n",
       "      <th>2019-12-31</th>\n",
       "      <td>2689.285714</td>\n",
       "      <td>39.500000</td>\n",
       "      <td>10.264286</td>\n",
       "      <td>26.750000</td>\n",
       "      <td>4.413333</td>\n",
       "      <td>3.270000</td>\n",
       "      <td>3.280000</td>\n",
       "      <td>102.214286</td>\n",
       "      <td>588.571429</td>\n",
       "      <td>2.316393</td>\n",
       "      <td>3.255746</td>\n",
       "      <td>44.503275</td>\n",
       "    </tr>\n",
       "  </tbody>\n",
       "</table>\n",
       "</div>"
      ],
      "text/plain": [
       "            GCS (gm/cm2)  Compactability (%)  Active Clay (%)  \\\n",
       "Date                                                            \n",
       "2019-12-25   2665.000000           39.714286        10.220714   \n",
       "2019-12-26   2661.666667           39.666667        10.236667   \n",
       "2019-12-27   2673.333333           39.066667        10.224000   \n",
       "2019-12-30   2688.571429           40.000000        10.260000   \n",
       "2019-12-31   2689.285714           39.500000        10.264286   \n",
       "\n",
       "            Wet Tensile Strength (gm/cm2)   LOI (%)  Moisture (%)  \\\n",
       "Date                                                                \n",
       "2019-12-25                      26.485714  4.366667      3.282857   \n",
       "2019-12-26                      26.400000  4.395000      3.310833   \n",
       "2019-12-27                      26.486667  4.390000      3.274667   \n",
       "2019-12-30                      26.600000  4.401667      3.276429   \n",
       "2019-12-31                      26.750000  4.413333      3.270000   \n",
       "\n",
       "            Inert Fines (%)  Permeability (no)  Shear Strength (gm/cm2)  \\\n",
       "Date                                                                      \n",
       "2019-12-25         3.293333          99.428571               565.000000   \n",
       "2019-12-26         3.293333         103.666667               560.000000   \n",
       "2019-12-27         3.356667          98.200000               564.666667   \n",
       "2019-12-30         3.270000         100.714286               584.285714   \n",
       "2019-12-31         3.280000         102.214286               588.571429   \n",
       "\n",
       "            Rejection (%)  Predicted Rejection (%)  predictionConfidence  \n",
       "Date                                                                      \n",
       "2019-12-25       5.585307                 3.872087             58.458838  \n",
       "2019-12-26       4.421813                 3.452921             72.856094  \n",
       "2019-12-27       5.063291                 3.697238             38.622286  \n",
       "2019-12-30       4.584903                 3.433590             47.205547  \n",
       "2019-12-31       2.316393                 3.255746             44.503275  "
      ]
     },
     "execution_count": 100,
     "metadata": {},
     "output_type": "execute_result"
    }
   ],
   "source": [
    "totDataCp.tail()"
   ]
  },
  {
   "cell_type": "code",
   "execution_count": 101,
   "metadata": {
    "ExecuteTime": {
     "end_time": "2018-06-15T10:27:54.813664Z",
     "start_time": "2018-06-15T10:27:54.774254Z"
    }
   },
   "outputs": [
    {
     "data": {
      "text/plain": [
       "count    134.000000\n",
       "mean      47.010569\n",
       "std       17.653799\n",
       "min        0.000000\n",
       "25%       37.028499\n",
       "50%       49.566006\n",
       "75%       59.950444\n",
       "max       78.231961\n",
       "Name: predictionConfidence, dtype: float64"
      ]
     },
     "execution_count": 101,
     "metadata": {},
     "output_type": "execute_result"
    }
   ],
   "source": [
    "totDataCp.predictionConfidence.describe()"
   ]
  },
  {
   "cell_type": "code",
   "execution_count": 102,
   "metadata": {
    "ExecuteTime": {
     "end_time": "2018-06-15T10:29:55.701117Z",
     "start_time": "2018-06-15T10:29:55.495891Z"
    }
   },
   "outputs": [
    {
     "data": {
      "image/png": "[encoded data removed]",
      "text/plain": [
       "<Figure size 1080x720 with 1 Axes>"
      ]
     },
     "metadata": {
      "needs_background": "light"
     },
     "output_type": "display_data"
    }
   ],
   "source": [
    "import matplotlib.pyplot as plt\n",
    "plt.figure(figsize=(15,10))\n",
    "totDataCp.predictionConfidence.hist()\n",
    "plt.title(\"PredictionConfidence-wo-HeatNo\")\n",
    "plt.savefig(\"PredictionConfidence-wo-HeatNo.png\", bbox_inches='tight', dpi=300)\n",
    "plt.show()"
   ]
  },
  {
   "cell_type": "code",
   "execution_count": null,
   "metadata": {},
   "outputs": [],
   "source": []
  },
  {
   "cell_type": "code",
   "execution_count": null,
   "metadata": {},
   "outputs": [],
   "source": []
  },
  {
   "cell_type": "code",
   "execution_count": null,
   "metadata": {},
   "outputs": [],
   "source": []
  },
  {
   "cell_type": "code",
   "execution_count": null,
   "metadata": {},
   "outputs": [],
   "source": []
  },
  {
   "cell_type": "code",
   "execution_count": null,
   "metadata": {},
   "outputs": [],
   "source": []
  }
 ],
 "metadata": {
  "kernelspec": {
   "display_name": "Python 3",
   "language": "python",
   "name": "python3"
  },
  "language_info": {
   "codemirror_mode": {
    "name": "ipython",
    "version": 3
   },
   "file_extension": ".py",
   "mimetype": "text/x-python",
   "name": "python",
   "nbconvert_exporter": "python",
   "pygments_lexer": "ipython3",
   "version": "3.7.6"
  }
 },
 "nbformat": 4,
 "nbformat_minor": 2
}
